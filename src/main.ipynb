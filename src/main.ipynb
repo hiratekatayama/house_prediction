{
 "cells": [
  {
   "cell_type": "markdown",
   "metadata": {},
   "source": [
    "# 課題２ 物件価格予測回帰問題\n",
    "\n",
    "## データセット作成\n",
    "- データの前処理、データセットの作成方法について説明してください。\n",
    "- 学習データ、バリデーションデータ、テストデータの分け方や説明変数、目的変数の作成方法等について詳細を説明してください。\n",
    "    - 説明変数、目的変数の作り方が重要なポイントとなります。\n",
    "\n",
    "## モデル構築\n",
    "- どのようなモデルを選んだか、どのようなアーキテクチャにしたのか、理由を含めて説明して下さい。\n",
    "- モデル学習時のハイパーパラメーター等、学習方法について理由を含めて説明して下さい。\n",
    "\n",
    "## テスト結果\n",
    "- テストデータにおける各サンプルに対して予測値（回帰結果）を付与した後、平均絶対誤差（MAE：Mean Absolute Error）、二乗平均平方根誤差（RMSE：Root Mean Squared Error）、R2スコアをそれぞれ計算して記入して下さい。\n",
    "- Kaggleで同様の課題に取り組まれた場合は、Team NameとLeaderboardにおける順位（#）を記入して下さい。"
   ]
  },
  {
   "cell_type": "code",
   "execution_count": 17,
   "metadata": {},
   "outputs": [],
   "source": [
    "import numpy as np # linear algebra\n",
    "import pandas as pd # data processing, CSV file I/O (e.g. pd.read_csv)\n",
    "from scipy.stats import skew\n",
    "from scipy.special import boxcox1p\n",
    "from scipy.stats import boxcox_normmax\n",
    "from scipy.stats import boxcox\n",
    "from scipy.special import inv_boxcox\n",
    "import seaborn as sb\n",
    "import matplotlib.pyplot as plt\n",
    "import lightgbm as lgb\n",
    "import xgboost as xgb\n",
    "from sklearn.neural_network import MLPRegressor\n",
    "from sklearn.model_selection import train_test_split\n",
    "from sklearn.model_selection import RandomizedSearchCV, KFold,GridSearchCV\n",
    "from sklearn.metrics import r2_score,mean_absolute_error,mean_squared_error\n",
    "from sklearn.preprocessing import StandardScaler,RobustScaler,LabelEncoder,PowerTransformer\n",
    "from sklearn.ensemble import GradientBoostingRegressor, RandomForestRegressor, ExtraTreesRegressor\n",
    "#StackingRegressor\n",
    "from sklearn.linear_model import ElasticNetCV, LassoCV, RidgeCV\n",
    "from sklearn.model_selection import KFold, cross_val_score\n",
    "from sklearn.pipeline import make_pipeline\n",
    "from sklearn.tree import DecisionTreeRegressor\n",
    "from sklearn.cluster import DBSCAN\n",
    "from sklearn.neighbors import NearestNeighbors\n",
    "from sklearn.decomposition import PCA\n",
    "import seaborn as sns"
   ]
  },
  {
   "cell_type": "code",
   "execution_count": 251,
   "metadata": {},
   "outputs": [],
   "source": [
    "train_data = pd.read_csv(\"../input/Price.csv\")"
   ]
  },
  {
   "cell_type": "code",
   "execution_count": 252,
   "metadata": {},
   "outputs": [
    {
     "data": {
      "text/html": [
       "<div>\n",
       "<style scoped>\n",
       "    .dataframe tbody tr th:only-of-type {\n",
       "        vertical-align: middle;\n",
       "    }\n",
       "\n",
       "    .dataframe tbody tr th {\n",
       "        vertical-align: top;\n",
       "    }\n",
       "\n",
       "    .dataframe thead th {\n",
       "        text-align: right;\n",
       "    }\n",
       "</style>\n",
       "<table border=\"1\" class=\"dataframe\">\n",
       "  <thead>\n",
       "    <tr style=\"text-align: right;\">\n",
       "      <th></th>\n",
       "      <th>id</th>\n",
       "      <th>date</th>\n",
       "      <th>price</th>\n",
       "      <th>bedrooms</th>\n",
       "      <th>bathrooms</th>\n",
       "      <th>sqft_living</th>\n",
       "      <th>sqft_lot</th>\n",
       "      <th>floors</th>\n",
       "      <th>waterfront</th>\n",
       "      <th>view</th>\n",
       "      <th>condition</th>\n",
       "      <th>grade</th>\n",
       "      <th>sqft_above</th>\n",
       "      <th>sqft_basement</th>\n",
       "      <th>yr_built</th>\n",
       "      <th>yr_renovated</th>\n",
       "      <th>zipcode</th>\n",
       "      <th>lat</th>\n",
       "      <th>long</th>\n",
       "      <th>sqft_living15</th>\n",
       "      <th>sqft_lot15</th>\n",
       "    </tr>\n",
       "  </thead>\n",
       "  <tbody>\n",
       "    <tr>\n",
       "      <th>0</th>\n",
       "      <td>7129300520</td>\n",
       "      <td>20141013T000000</td>\n",
       "      <td>221900</td>\n",
       "      <td>3</td>\n",
       "      <td>1.00</td>\n",
       "      <td>1180</td>\n",
       "      <td>5650</td>\n",
       "      <td>1.0</td>\n",
       "      <td>0</td>\n",
       "      <td>0</td>\n",
       "      <td>3</td>\n",
       "      <td>7</td>\n",
       "      <td>1180</td>\n",
       "      <td>0</td>\n",
       "      <td>1955</td>\n",
       "      <td>0</td>\n",
       "      <td>98178</td>\n",
       "      <td>47.5112</td>\n",
       "      <td>-122.257</td>\n",
       "      <td>1340</td>\n",
       "      <td>5650</td>\n",
       "    </tr>\n",
       "    <tr>\n",
       "      <th>1</th>\n",
       "      <td>6414100192</td>\n",
       "      <td>20141209T000000</td>\n",
       "      <td>538000</td>\n",
       "      <td>3</td>\n",
       "      <td>2.25</td>\n",
       "      <td>2570</td>\n",
       "      <td>7242</td>\n",
       "      <td>2.0</td>\n",
       "      <td>0</td>\n",
       "      <td>0</td>\n",
       "      <td>3</td>\n",
       "      <td>7</td>\n",
       "      <td>2170</td>\n",
       "      <td>400</td>\n",
       "      <td>1951</td>\n",
       "      <td>1991</td>\n",
       "      <td>98125</td>\n",
       "      <td>47.7210</td>\n",
       "      <td>-122.319</td>\n",
       "      <td>1690</td>\n",
       "      <td>7639</td>\n",
       "    </tr>\n",
       "    <tr>\n",
       "      <th>2</th>\n",
       "      <td>5631500400</td>\n",
       "      <td>20150225T000000</td>\n",
       "      <td>180000</td>\n",
       "      <td>2</td>\n",
       "      <td>1.00</td>\n",
       "      <td>770</td>\n",
       "      <td>10000</td>\n",
       "      <td>1.0</td>\n",
       "      <td>0</td>\n",
       "      <td>0</td>\n",
       "      <td>3</td>\n",
       "      <td>6</td>\n",
       "      <td>770</td>\n",
       "      <td>0</td>\n",
       "      <td>1933</td>\n",
       "      <td>0</td>\n",
       "      <td>98028</td>\n",
       "      <td>47.7379</td>\n",
       "      <td>-122.233</td>\n",
       "      <td>2720</td>\n",
       "      <td>8062</td>\n",
       "    </tr>\n",
       "    <tr>\n",
       "      <th>3</th>\n",
       "      <td>2487200875</td>\n",
       "      <td>20141209T000000</td>\n",
       "      <td>604000</td>\n",
       "      <td>4</td>\n",
       "      <td>3.00</td>\n",
       "      <td>1960</td>\n",
       "      <td>5000</td>\n",
       "      <td>1.0</td>\n",
       "      <td>0</td>\n",
       "      <td>0</td>\n",
       "      <td>5</td>\n",
       "      <td>7</td>\n",
       "      <td>1050</td>\n",
       "      <td>910</td>\n",
       "      <td>1965</td>\n",
       "      <td>0</td>\n",
       "      <td>98136</td>\n",
       "      <td>47.5208</td>\n",
       "      <td>-122.393</td>\n",
       "      <td>1360</td>\n",
       "      <td>5000</td>\n",
       "    </tr>\n",
       "    <tr>\n",
       "      <th>4</th>\n",
       "      <td>1954400510</td>\n",
       "      <td>20150218T000000</td>\n",
       "      <td>510000</td>\n",
       "      <td>3</td>\n",
       "      <td>2.00</td>\n",
       "      <td>1680</td>\n",
       "      <td>8080</td>\n",
       "      <td>1.0</td>\n",
       "      <td>0</td>\n",
       "      <td>0</td>\n",
       "      <td>3</td>\n",
       "      <td>8</td>\n",
       "      <td>1680</td>\n",
       "      <td>0</td>\n",
       "      <td>1987</td>\n",
       "      <td>0</td>\n",
       "      <td>98074</td>\n",
       "      <td>47.6168</td>\n",
       "      <td>-122.045</td>\n",
       "      <td>1800</td>\n",
       "      <td>7503</td>\n",
       "    </tr>\n",
       "  </tbody>\n",
       "</table>\n",
       "</div>"
      ],
      "text/plain": [
       "           id             date   price  bedrooms  bathrooms  sqft_living  \\\n",
       "0  7129300520  20141013T000000  221900         3       1.00         1180   \n",
       "1  6414100192  20141209T000000  538000         3       2.25         2570   \n",
       "2  5631500400  20150225T000000  180000         2       1.00          770   \n",
       "3  2487200875  20141209T000000  604000         4       3.00         1960   \n",
       "4  1954400510  20150218T000000  510000         3       2.00         1680   \n",
       "\n",
       "   sqft_lot  floors  waterfront  view  condition  grade  sqft_above  \\\n",
       "0      5650     1.0           0     0          3      7        1180   \n",
       "1      7242     2.0           0     0          3      7        2170   \n",
       "2     10000     1.0           0     0          3      6         770   \n",
       "3      5000     1.0           0     0          5      7        1050   \n",
       "4      8080     1.0           0     0          3      8        1680   \n",
       "\n",
       "   sqft_basement  yr_built  yr_renovated  zipcode      lat     long  \\\n",
       "0              0      1955             0    98178  47.5112 -122.257   \n",
       "1            400      1951          1991    98125  47.7210 -122.319   \n",
       "2              0      1933             0    98028  47.7379 -122.233   \n",
       "3            910      1965             0    98136  47.5208 -122.393   \n",
       "4              0      1987             0    98074  47.6168 -122.045   \n",
       "\n",
       "   sqft_living15  sqft_lot15  \n",
       "0           1340        5650  \n",
       "1           1690        7639  \n",
       "2           2720        8062  \n",
       "3           1360        5000  \n",
       "4           1800        7503  "
      ]
     },
     "execution_count": 252,
     "metadata": {},
     "output_type": "execute_result"
    }
   ],
   "source": [
    "pd.get_option(\"display.max_columns\")\n",
    "pd.set_option('display.max_columns', 50)\n",
    "\n",
    "train_data.head()"
   ]
  },
  {
   "cell_type": "code",
   "execution_count": 46,
   "metadata": {},
   "outputs": [
    {
     "data": {
      "text/plain": [
       "Index(['id', 'date', 'price', 'bedrooms', 'bathrooms', 'sqft_living',\n",
       "       'sqft_lot', 'floors', 'waterfront', 'view', 'condition', 'grade',\n",
       "       'sqft_above', 'sqft_basement', 'yr_built', 'yr_renovated', 'zipcode',\n",
       "       'lat', 'long', 'sqft_living15', 'sqft_lot15'],\n",
       "      dtype='object')"
      ]
     },
     "execution_count": 46,
     "metadata": {},
     "output_type": "execute_result"
    }
   ],
   "source": [
    "train_data.columns"
   ]
  },
  {
   "cell_type": "markdown",
   "metadata": {},
   "source": [
    "### 変数説明\n",
    "id-住宅販売\n",
    "\n",
    "date-住宅販売\n",
    "\n",
    "price - 各住宅販売の\n",
    "\n",
    "bedroms - 寝室の数\n",
    "\n",
    "bathrooms - バスルームの数\n",
    "\n",
    "bathrooms - .5はトイレはあるがシャワーはない部屋の場合\n",
    "\n",
    "sqft_living-平方フィートマンションインテリア生活空間の\n",
    "\n",
    "sqft_lot - 土地空間の広場映像\n",
    "\n",
    "floors -床の数\n",
    "\n",
    "waterfront -アパートウォーターフロントを見下ろすされたか否かについてダミー変数\n",
    "\n",
    "view -インデックス0から4までどのように良いのプロパティの表示状態でした\n",
    "\n",
    "condition -マンションの状態に関する1から5までのインデックス、\n",
    "\n",
    "grade  -1から13までのインデックス。1〜3は建物の建設と設計に達していない、7は平均レベルの建設と設計、11〜13は高品質の構造とデザイン。\n",
    "\n",
    "sqft_above -グランドレベルより上にあるハウジング内部空間の平方フィート\n",
    "\n",
    "sqft_basementグラウンドレベルを下回っている内部収納空間の平方フィート-\n",
    "\n",
    "yr_built家が最初に建てられた年-\n",
    "\n",
    "yr_renovated -家の最後の改装の年\n",
    "\n",
    "zipcode  -郵便番号は何面積家はある\n",
    "\n",
    "lat - Lattitude\n",
    "\n",
    "long -経度\n",
    "\n",
    "sqft_living15-最寄りの15人の近隣の住居の居住空間の平方フィート\n",
    "\n",
    "sqft_lot15-最寄りの15人の近隣の土地区画の平方フィート"
   ]
  },
  {
   "cell_type": "code",
   "execution_count": 41,
   "metadata": {},
   "outputs": [
    {
     "data": {
      "text/html": [
       "<div>\n",
       "<style scoped>\n",
       "    .dataframe tbody tr th:only-of-type {\n",
       "        vertical-align: middle;\n",
       "    }\n",
       "\n",
       "    .dataframe tbody tr th {\n",
       "        vertical-align: top;\n",
       "    }\n",
       "\n",
       "    .dataframe thead th {\n",
       "        text-align: right;\n",
       "    }\n",
       "</style>\n",
       "<table border=\"1\" class=\"dataframe\">\n",
       "  <thead>\n",
       "    <tr style=\"text-align: right;\">\n",
       "      <th></th>\n",
       "      <th>count</th>\n",
       "      <th>mean</th>\n",
       "      <th>std</th>\n",
       "      <th>min</th>\n",
       "      <th>25%</th>\n",
       "      <th>50%</th>\n",
       "      <th>75%</th>\n",
       "      <th>max</th>\n",
       "    </tr>\n",
       "  </thead>\n",
       "  <tbody>\n",
       "    <tr>\n",
       "      <th>id</th>\n",
       "      <td>21613.0</td>\n",
       "      <td>4.580302e+09</td>\n",
       "      <td>2.876566e+09</td>\n",
       "      <td>1.000102e+06</td>\n",
       "      <td>2.123049e+09</td>\n",
       "      <td>3.904930e+09</td>\n",
       "      <td>7.308900e+09</td>\n",
       "      <td>9.900000e+09</td>\n",
       "    </tr>\n",
       "    <tr>\n",
       "      <th>price</th>\n",
       "      <td>21613.0</td>\n",
       "      <td>5.400881e+05</td>\n",
       "      <td>3.671272e+05</td>\n",
       "      <td>7.500000e+04</td>\n",
       "      <td>3.219500e+05</td>\n",
       "      <td>4.500000e+05</td>\n",
       "      <td>6.450000e+05</td>\n",
       "      <td>7.700000e+06</td>\n",
       "    </tr>\n",
       "    <tr>\n",
       "      <th>bedrooms</th>\n",
       "      <td>21613.0</td>\n",
       "      <td>3.370842e+00</td>\n",
       "      <td>9.300618e-01</td>\n",
       "      <td>0.000000e+00</td>\n",
       "      <td>3.000000e+00</td>\n",
       "      <td>3.000000e+00</td>\n",
       "      <td>4.000000e+00</td>\n",
       "      <td>3.300000e+01</td>\n",
       "    </tr>\n",
       "    <tr>\n",
       "      <th>bathrooms</th>\n",
       "      <td>21613.0</td>\n",
       "      <td>2.114757e+00</td>\n",
       "      <td>7.701632e-01</td>\n",
       "      <td>0.000000e+00</td>\n",
       "      <td>1.750000e+00</td>\n",
       "      <td>2.250000e+00</td>\n",
       "      <td>2.500000e+00</td>\n",
       "      <td>8.000000e+00</td>\n",
       "    </tr>\n",
       "    <tr>\n",
       "      <th>sqft_living</th>\n",
       "      <td>21613.0</td>\n",
       "      <td>2.079900e+03</td>\n",
       "      <td>9.184409e+02</td>\n",
       "      <td>2.900000e+02</td>\n",
       "      <td>1.427000e+03</td>\n",
       "      <td>1.910000e+03</td>\n",
       "      <td>2.550000e+03</td>\n",
       "      <td>1.354000e+04</td>\n",
       "    </tr>\n",
       "    <tr>\n",
       "      <th>sqft_lot</th>\n",
       "      <td>21613.0</td>\n",
       "      <td>1.510697e+04</td>\n",
       "      <td>4.142051e+04</td>\n",
       "      <td>5.200000e+02</td>\n",
       "      <td>5.040000e+03</td>\n",
       "      <td>7.618000e+03</td>\n",
       "      <td>1.068800e+04</td>\n",
       "      <td>1.651359e+06</td>\n",
       "    </tr>\n",
       "    <tr>\n",
       "      <th>floors</th>\n",
       "      <td>21613.0</td>\n",
       "      <td>1.494309e+00</td>\n",
       "      <td>5.399889e-01</td>\n",
       "      <td>1.000000e+00</td>\n",
       "      <td>1.000000e+00</td>\n",
       "      <td>1.500000e+00</td>\n",
       "      <td>2.000000e+00</td>\n",
       "      <td>3.500000e+00</td>\n",
       "    </tr>\n",
       "    <tr>\n",
       "      <th>waterfront</th>\n",
       "      <td>21613.0</td>\n",
       "      <td>7.541757e-03</td>\n",
       "      <td>8.651720e-02</td>\n",
       "      <td>0.000000e+00</td>\n",
       "      <td>0.000000e+00</td>\n",
       "      <td>0.000000e+00</td>\n",
       "      <td>0.000000e+00</td>\n",
       "      <td>1.000000e+00</td>\n",
       "    </tr>\n",
       "    <tr>\n",
       "      <th>view</th>\n",
       "      <td>21613.0</td>\n",
       "      <td>2.343034e-01</td>\n",
       "      <td>7.663176e-01</td>\n",
       "      <td>0.000000e+00</td>\n",
       "      <td>0.000000e+00</td>\n",
       "      <td>0.000000e+00</td>\n",
       "      <td>0.000000e+00</td>\n",
       "      <td>4.000000e+00</td>\n",
       "    </tr>\n",
       "    <tr>\n",
       "      <th>condition</th>\n",
       "      <td>21613.0</td>\n",
       "      <td>3.409430e+00</td>\n",
       "      <td>6.507430e-01</td>\n",
       "      <td>1.000000e+00</td>\n",
       "      <td>3.000000e+00</td>\n",
       "      <td>3.000000e+00</td>\n",
       "      <td>4.000000e+00</td>\n",
       "      <td>5.000000e+00</td>\n",
       "    </tr>\n",
       "    <tr>\n",
       "      <th>grade</th>\n",
       "      <td>21613.0</td>\n",
       "      <td>7.656873e+00</td>\n",
       "      <td>1.175459e+00</td>\n",
       "      <td>1.000000e+00</td>\n",
       "      <td>7.000000e+00</td>\n",
       "      <td>7.000000e+00</td>\n",
       "      <td>8.000000e+00</td>\n",
       "      <td>1.300000e+01</td>\n",
       "    </tr>\n",
       "    <tr>\n",
       "      <th>sqft_above</th>\n",
       "      <td>21613.0</td>\n",
       "      <td>1.788391e+03</td>\n",
       "      <td>8.280910e+02</td>\n",
       "      <td>2.900000e+02</td>\n",
       "      <td>1.190000e+03</td>\n",
       "      <td>1.560000e+03</td>\n",
       "      <td>2.210000e+03</td>\n",
       "      <td>9.410000e+03</td>\n",
       "    </tr>\n",
       "    <tr>\n",
       "      <th>sqft_basement</th>\n",
       "      <td>21613.0</td>\n",
       "      <td>2.915090e+02</td>\n",
       "      <td>4.425750e+02</td>\n",
       "      <td>0.000000e+00</td>\n",
       "      <td>0.000000e+00</td>\n",
       "      <td>0.000000e+00</td>\n",
       "      <td>5.600000e+02</td>\n",
       "      <td>4.820000e+03</td>\n",
       "    </tr>\n",
       "    <tr>\n",
       "      <th>yr_built</th>\n",
       "      <td>21613.0</td>\n",
       "      <td>1.971005e+03</td>\n",
       "      <td>2.937341e+01</td>\n",
       "      <td>1.900000e+03</td>\n",
       "      <td>1.951000e+03</td>\n",
       "      <td>1.975000e+03</td>\n",
       "      <td>1.997000e+03</td>\n",
       "      <td>2.015000e+03</td>\n",
       "    </tr>\n",
       "    <tr>\n",
       "      <th>yr_renovated</th>\n",
       "      <td>21613.0</td>\n",
       "      <td>8.440226e+01</td>\n",
       "      <td>4.016792e+02</td>\n",
       "      <td>0.000000e+00</td>\n",
       "      <td>0.000000e+00</td>\n",
       "      <td>0.000000e+00</td>\n",
       "      <td>0.000000e+00</td>\n",
       "      <td>2.015000e+03</td>\n",
       "    </tr>\n",
       "    <tr>\n",
       "      <th>zipcode</th>\n",
       "      <td>21613.0</td>\n",
       "      <td>9.807794e+04</td>\n",
       "      <td>5.350503e+01</td>\n",
       "      <td>9.800100e+04</td>\n",
       "      <td>9.803300e+04</td>\n",
       "      <td>9.806500e+04</td>\n",
       "      <td>9.811800e+04</td>\n",
       "      <td>9.819900e+04</td>\n",
       "    </tr>\n",
       "    <tr>\n",
       "      <th>lat</th>\n",
       "      <td>21613.0</td>\n",
       "      <td>4.756005e+01</td>\n",
       "      <td>1.385637e-01</td>\n",
       "      <td>4.715590e+01</td>\n",
       "      <td>4.747100e+01</td>\n",
       "      <td>4.757180e+01</td>\n",
       "      <td>4.767800e+01</td>\n",
       "      <td>4.777760e+01</td>\n",
       "    </tr>\n",
       "    <tr>\n",
       "      <th>long</th>\n",
       "      <td>21613.0</td>\n",
       "      <td>-1.222139e+02</td>\n",
       "      <td>1.408283e-01</td>\n",
       "      <td>-1.225190e+02</td>\n",
       "      <td>-1.223280e+02</td>\n",
       "      <td>-1.222300e+02</td>\n",
       "      <td>-1.221250e+02</td>\n",
       "      <td>-1.213150e+02</td>\n",
       "    </tr>\n",
       "    <tr>\n",
       "      <th>sqft_living15</th>\n",
       "      <td>21613.0</td>\n",
       "      <td>1.986552e+03</td>\n",
       "      <td>6.853913e+02</td>\n",
       "      <td>3.990000e+02</td>\n",
       "      <td>1.490000e+03</td>\n",
       "      <td>1.840000e+03</td>\n",
       "      <td>2.360000e+03</td>\n",
       "      <td>6.210000e+03</td>\n",
       "    </tr>\n",
       "    <tr>\n",
       "      <th>sqft_lot15</th>\n",
       "      <td>21613.0</td>\n",
       "      <td>1.276846e+04</td>\n",
       "      <td>2.730418e+04</td>\n",
       "      <td>6.510000e+02</td>\n",
       "      <td>5.100000e+03</td>\n",
       "      <td>7.620000e+03</td>\n",
       "      <td>1.008300e+04</td>\n",
       "      <td>8.712000e+05</td>\n",
       "    </tr>\n",
       "  </tbody>\n",
       "</table>\n",
       "</div>"
      ],
      "text/plain": [
       "                 count          mean           std           min  \\\n",
       "id             21613.0  4.580302e+09  2.876566e+09  1.000102e+06   \n",
       "price          21613.0  5.400881e+05  3.671272e+05  7.500000e+04   \n",
       "bedrooms       21613.0  3.370842e+00  9.300618e-01  0.000000e+00   \n",
       "bathrooms      21613.0  2.114757e+00  7.701632e-01  0.000000e+00   \n",
       "sqft_living    21613.0  2.079900e+03  9.184409e+02  2.900000e+02   \n",
       "sqft_lot       21613.0  1.510697e+04  4.142051e+04  5.200000e+02   \n",
       "floors         21613.0  1.494309e+00  5.399889e-01  1.000000e+00   \n",
       "waterfront     21613.0  7.541757e-03  8.651720e-02  0.000000e+00   \n",
       "view           21613.0  2.343034e-01  7.663176e-01  0.000000e+00   \n",
       "condition      21613.0  3.409430e+00  6.507430e-01  1.000000e+00   \n",
       "grade          21613.0  7.656873e+00  1.175459e+00  1.000000e+00   \n",
       "sqft_above     21613.0  1.788391e+03  8.280910e+02  2.900000e+02   \n",
       "sqft_basement  21613.0  2.915090e+02  4.425750e+02  0.000000e+00   \n",
       "yr_built       21613.0  1.971005e+03  2.937341e+01  1.900000e+03   \n",
       "yr_renovated   21613.0  8.440226e+01  4.016792e+02  0.000000e+00   \n",
       "zipcode        21613.0  9.807794e+04  5.350503e+01  9.800100e+04   \n",
       "lat            21613.0  4.756005e+01  1.385637e-01  4.715590e+01   \n",
       "long           21613.0 -1.222139e+02  1.408283e-01 -1.225190e+02   \n",
       "sqft_living15  21613.0  1.986552e+03  6.853913e+02  3.990000e+02   \n",
       "sqft_lot15     21613.0  1.276846e+04  2.730418e+04  6.510000e+02   \n",
       "\n",
       "                        25%           50%           75%           max  \n",
       "id             2.123049e+09  3.904930e+09  7.308900e+09  9.900000e+09  \n",
       "price          3.219500e+05  4.500000e+05  6.450000e+05  7.700000e+06  \n",
       "bedrooms       3.000000e+00  3.000000e+00  4.000000e+00  3.300000e+01  \n",
       "bathrooms      1.750000e+00  2.250000e+00  2.500000e+00  8.000000e+00  \n",
       "sqft_living    1.427000e+03  1.910000e+03  2.550000e+03  1.354000e+04  \n",
       "sqft_lot       5.040000e+03  7.618000e+03  1.068800e+04  1.651359e+06  \n",
       "floors         1.000000e+00  1.500000e+00  2.000000e+00  3.500000e+00  \n",
       "waterfront     0.000000e+00  0.000000e+00  0.000000e+00  1.000000e+00  \n",
       "view           0.000000e+00  0.000000e+00  0.000000e+00  4.000000e+00  \n",
       "condition      3.000000e+00  3.000000e+00  4.000000e+00  5.000000e+00  \n",
       "grade          7.000000e+00  7.000000e+00  8.000000e+00  1.300000e+01  \n",
       "sqft_above     1.190000e+03  1.560000e+03  2.210000e+03  9.410000e+03  \n",
       "sqft_basement  0.000000e+00  0.000000e+00  5.600000e+02  4.820000e+03  \n",
       "yr_built       1.951000e+03  1.975000e+03  1.997000e+03  2.015000e+03  \n",
       "yr_renovated   0.000000e+00  0.000000e+00  0.000000e+00  2.015000e+03  \n",
       "zipcode        9.803300e+04  9.806500e+04  9.811800e+04  9.819900e+04  \n",
       "lat            4.747100e+01  4.757180e+01  4.767800e+01  4.777760e+01  \n",
       "long          -1.223280e+02 -1.222300e+02 -1.221250e+02 -1.213150e+02  \n",
       "sqft_living15  1.490000e+03  1.840000e+03  2.360000e+03  6.210000e+03  \n",
       "sqft_lot15     5.100000e+03  7.620000e+03  1.008300e+04  8.712000e+05  "
      ]
     },
     "execution_count": 41,
     "metadata": {},
     "output_type": "execute_result"
    }
   ],
   "source": [
    "train_data.describe().T"
   ]
  },
  {
   "cell_type": "code",
   "execution_count": 55,
   "metadata": {},
   "outputs": [],
   "source": [
    "y_data = pd.DataFrame({\"price\":train_data[\"price\"], \"log(price+1)\":np.log1p(train_data[\"price\"])})"
   ]
  },
  {
   "cell_type": "markdown",
   "metadata": {},
   "source": [
    "## 目的変数の分析\n",
    "\n",
    "目的変数：Price"
   ]
  },
  {
   "cell_type": "markdown",
   "metadata": {},
   "source": [
    "- 目的変数の構造把握"
   ]
  },
  {
   "cell_type": "code",
   "execution_count": 12,
   "metadata": {
    "scrolled": true
   },
   "outputs": [
    {
     "data": {
      "text/plain": [
       "count    2.161300e+04\n",
       "mean     5.400881e+05\n",
       "std      3.671272e+05\n",
       "min      7.500000e+04\n",
       "25%      3.219500e+05\n",
       "50%      4.500000e+05\n",
       "75%      6.450000e+05\n",
       "max      7.700000e+06\n",
       "Name: price, dtype: float64"
      ]
     },
     "execution_count": 12,
     "metadata": {},
     "output_type": "execute_result"
    }
   ],
   "source": [
    "# 記述統計の要約\n",
    "y_data.iloc[:,0].describe()"
   ]
  },
  {
   "cell_type": "markdown",
   "metadata": {},
   "source": [
    "最低価格が0以上となっているので，削除する必要がある説明変数は存在しない"
   ]
  },
  {
   "cell_type": "markdown",
   "metadata": {},
   "source": [
    "- 目的変数の分布確認"
   ]
  },
  {
   "cell_type": "code",
   "execution_count": 18,
   "metadata": {},
   "outputs": [
    {
     "data": {
      "text/plain": [
       "<matplotlib.axes._subplots.AxesSubplot at 0x26cca244748>"
      ]
     },
     "execution_count": 18,
     "metadata": {},
     "output_type": "execute_result"
    },
    {
     "data": {
      "image/png": "[encoded data removed]",
      "text/plain": [
       "<Figure size 432x288 with 1 Axes>"
      ]
     },
     "metadata": {},
     "output_type": "display_data"
    }
   ],
   "source": [
    "sns.distplot(y_data.iloc[:,0])"
   ]
  },
  {
   "cell_type": "markdown",
   "metadata": {},
   "source": [
    "- 正規分布からかなり遠い形をしている\n",
    "- 正の歪度が強い傾向がある"
   ]
  },
  {
   "cell_type": "code",
   "execution_count": 209,
   "metadata": {},
   "outputs": [
    {
     "name": "stdout",
     "output_type": "stream",
     "text": [
      "Skewness: 4.024069\n",
      "Kurtosis: 34.585540\n"
     ]
    }
   ],
   "source": [
    "print(\"Skewness: %f\" % y_data['price'].skew())\n",
    "print(\"Kurtosis: %f\" % y_data['price'].kurt())"
   ]
  },
  {
   "cell_type": "markdown",
   "metadata": {},
   "source": [
    "- 目的変数に対数を取ったときの傾向"
   ]
  },
  {
   "cell_type": "code",
   "execution_count": 210,
   "metadata": {},
   "outputs": [
    {
     "data": {
      "text/plain": [
       "<matplotlib.axes._subplots.AxesSubplot at 0x26cd154dd68>"
      ]
     },
     "execution_count": 210,
     "metadata": {},
     "output_type": "execute_result"
    },
    {
     "data": {
      "image/png": "[encoded data removed]",
      "text/plain": [
       "<Figure size 432x288 with 1 Axes>"
      ]
     },
     "metadata": {},
     "output_type": "display_data"
    }
   ],
   "source": [
    "sns.distplot(y_data.iloc[:,1])"
   ]
  },
  {
   "cell_type": "markdown",
   "metadata": {},
   "source": [
    "## 説明変数分析\n"
   ]
  },
  {
   "cell_type": "markdown",
   "metadata": {},
   "source": [
    "### 欠損値確認\n"
   ]
  },
  {
   "cell_type": "code",
   "execution_count": 211,
   "metadata": {},
   "outputs": [
    {
     "data": {
      "text/plain": [
       "date             0\n",
       "price            0\n",
       "bedrooms         0\n",
       "bathrooms        0\n",
       "sqft_living      0\n",
       "sqft_lot         0\n",
       "floors           0\n",
       "waterfront       0\n",
       "view             0\n",
       "condition        0\n",
       "grade            0\n",
       "sqft_above       0\n",
       "sqft_basement    0\n",
       "yr_built         0\n",
       "yr_renovated     0\n",
       "zipcode          0\n",
       "lat              0\n",
       "long             0\n",
       "sqft_living15    0\n",
       "sqft_lot15       0\n",
       "sales_yr         0\n",
       "house_age        0\n",
       "age_rnv          0\n",
       "dtype: int64"
      ]
     },
     "execution_count": 211,
     "metadata": {},
     "output_type": "execute_result"
    }
   ],
   "source": [
    "train_data.isnull().sum()"
   ]
  },
  {
   "cell_type": "markdown",
   "metadata": {},
   "source": [
    "欠損値なし"
   ]
  },
  {
   "cell_type": "markdown",
   "metadata": {},
   "source": [
    "### 特徴量作成\n",
    "- sales_yr: \n",
    "\n",
    "販売年代\n",
    "\n",
    "- house_age\n",
    "\n",
    "築年数\n",
    "\n",
    "- age_rnv\n",
    "\n",
    "リノベーション年数"
   ]
  },
  {
   "cell_type": "code",
   "execution_count": 253,
   "metadata": {},
   "outputs": [
    {
     "name": "stderr",
     "output_type": "stream",
     "text": [
      "C:\\Users\\hirakata\\Anaconda3\\lib\\site-packages\\ipykernel_launcher.py:7: SettingWithCopyWarning: \n",
      "A value is trying to be set on a copy of a slice from a DataFrame\n",
      "\n",
      "See the caveats in the documentation: http://pandas.pydata.org/pandas-docs/stable/indexing.html#indexing-view-versus-copy\n",
      "  import sys\n"
     ]
    }
   ],
   "source": [
    "train_data['sales_yr']=train_data['date'].astype(str).str[:4]\n",
    "\n",
    "train_data['house_age']=train_data['sales_yr'].astype(int)-x_data['yr_built']\n",
    "\n",
    "train_data['age_rnv']=0\n",
    "train_data['age_rnv']=train_data['sales_yr'][train_data['yr_renovated']!=0].astype(int)-train_data['yr_renovated'][train_data['yr_renovated']!=0]\n",
    "train_data['age_rnv'][train_data['age_rnv'].isnull()]=0"
   ]
  },
  {
   "cell_type": "code",
   "execution_count": 217,
   "metadata": {},
   "outputs": [],
   "source": [
    "test[\"count\"] = train_data.groupby(\"zipcode\").count()[\"price\"]\n",
    "\n",
    "check = pd.DataFrame(test.index)\n",
    "check = pd.concat([check, pd.DataFrame(test.values)],axis=1)\n",
    "check.columns = [\"zipcode\",\"zipcode_cnt\"]\n",
    "\n",
    "train_data = pd.merge(train_data,check, on=\"zipcode\")"
   ]
  },
  {
   "cell_type": "code",
   "execution_count": 254,
   "metadata": {},
   "outputs": [
    {
     "data": {
      "image/png": "[encoded data removed]",
      "text/plain": [
       "<Figure size 1152x864 with 2 Axes>"
      ]
     },
     "metadata": {},
     "output_type": "display_data"
    }
   ],
   "source": [
    "features = list(train_data.columns)\n",
    "\n",
    "\n",
    "mask = np.zeros_like(train_data[features].corr(), dtype=np.bool) \n",
    "mask[np.triu_indices_from(mask)] = True \n",
    "\n",
    "f, ax = plt.subplots(figsize=(16, 12))\n",
    "plt.title('Pearson Correlation Matrix',fontsize=25)\n",
    "\n",
    "sns.heatmap(train_data[features].corr(),linewidths=0.25,vmax=0.7,square=True,cmap=\"BuGn\", #\"BuGn_r\" to reverse \n",
    "            linecolor='w',annot=True,annot_kws={\"size\":8},mask=mask,cbar_kws={\"shrink\": .9});"
   ]
  },
  {
   "cell_type": "code",
   "execution_count": 220,
   "metadata": {},
   "outputs": [
    {
     "data": {
      "text/plain": [
       "<matplotlib.axes._subplots.AxesSubplot at 0x26ccfe8f4e0>"
      ]
     },
     "execution_count": 220,
     "metadata": {},
     "output_type": "execute_result"
    },
    {
     "data": {
      "image/png": "[encoded data removed]",
      "text/plain": [
       "<Figure size 432x288 with 1 Axes>"
      ]
     },
     "metadata": {},
     "output_type": "display_data"
    }
   ],
   "source": [
    "sns.distplot(train_data[\"zipcode_cnt\"])"
   ]
  },
  {
   "cell_type": "code",
   "execution_count": 255,
   "metadata": {},
   "outputs": [],
   "source": [
    "# id, date列を削除\n",
    "train_data = train_data.drop([\"date\"],axis=1)\n",
    "train_data = train_data.drop([\"id\"],axis=1)"
   ]
  },
  {
   "cell_type": "code",
   "execution_count": 256,
   "metadata": {},
   "outputs": [],
   "source": [
    "x_data = train_data.drop([\"price\"],axis=1)"
   ]
  },
  {
   "cell_type": "markdown",
   "metadata": {},
   "source": [
    "### 正則化"
   ]
  },
  {
   "cell_type": "code",
   "execution_count": 257,
   "metadata": {
    "scrolled": true
   },
   "outputs": [
    {
     "name": "stderr",
     "output_type": "stream",
     "text": [
      "C:\\Users\\hirakata\\Anaconda3\\lib\\site-packages\\sklearn\\preprocessing\\data.py:2863: RuntimeWarning: divide by zero encountered in log\n",
      "  loglike = -n_samples / 2 * np.log(x_trans.var())\n",
      "C:\\Users\\hirakata\\Anaconda3\\lib\\site-packages\\sklearn\\preprocessing\\data.py:2828: RuntimeWarning: overflow encountered in power\n",
      "  out[pos] = (np.power(x[pos] + 1, lmbda) - 1) / lmbda\n",
      "C:\\Users\\hirakata\\Anaconda3\\lib\\site-packages\\numpy\\core\\_methods.py:121: RuntimeWarning: overflow encountered in multiply\n",
      "  x = um.multiply(x, x, out=x)\n",
      "C:\\Users\\hirakata\\Anaconda3\\lib\\site-packages\\sklearn\\preprocessing\\data.py:2832: RuntimeWarning: overflow encountered in power\n",
      "  out[~pos] = -(np.power(-x[~pos] + 1, 2 - lmbda) - 1) / (2 - lmbda)\n",
      "C:\\Users\\hirakata\\Anaconda3\\lib\\site-packages\\numpy\\core\\_methods.py:122: RuntimeWarning: overflow encountered in reduce\n",
      "  ret = umr_sum(x, axis, dtype, out, keepdims)\n"
     ]
    }
   ],
   "source": [
    "std_scaler=StandardScaler()\n",
    "rbst_scaler=RobustScaler()\n",
    "power_transformer=PowerTransformer()\n",
    "X_std=std_scaler.fit_transform(x_data)\n",
    "X_rbst=rbst_scaler.fit_transform(x_data)\n",
    "X_pwr=power_transformer.fit_transform(x_data)"
   ]
  },
  {
   "cell_type": "markdown",
   "metadata": {},
   "source": [
    "## モデル作成"
   ]
  },
  {
   "cell_type": "code",
   "execution_count": 258,
   "metadata": {},
   "outputs": [],
   "source": [
    "Y = y_data[\"log(price+1)\"]"
   ]
  },
  {
   "cell_type": "code",
   "execution_count": 227,
   "metadata": {},
   "outputs": [],
   "source": [
    "def overfit_reducer(df):\n",
    "\n",
    "    overfit = []\n",
    "    for i in df.columns:\n",
    "        counts = df[i].value_counts()\n",
    "        zeros = counts.iloc[0]\n",
    "        if zeros / len(df) * 100 > 99.9:\n",
    "            overfit.append(i)\n",
    "    overfit = list(overfit)\n",
    "    return overfit\n",
    "overfitted_features = overfit_reducer(x_data)"
   ]
  },
  {
   "cell_type": "code",
   "execution_count": 228,
   "metadata": {},
   "outputs": [
    {
     "name": "stdout",
     "output_type": "stream",
     "text": [
      "(21613, 22)\n"
     ]
    }
   ],
   "source": [
    "print(x_data.shape)"
   ]
  },
  {
   "cell_type": "markdown",
   "metadata": {},
   "source": [
    "### メモ\n",
    "-  データの分け方を考える必要がある\n",
    "- 学習データ、バリデーションデータ、テストデータ\n",
    "\n",
    "学習データとテストデータの分け方\n",
    "バリデーションデータを用いずに、トレーニンデータのみからクロスバリデーションによりハイパーパラメータを選ぶ方法もあります。わたしは、ほとんどの場合において、クロスバリデーションでハイパーパラメータを選んでいます。\n",
    "https://datachemeng.com/doublecrossvalidation/"
   ]
  },
  {
   "cell_type": "code",
   "execution_count": 259,
   "metadata": {},
   "outputs": [
    {
     "name": "stdout",
     "output_type": "stream",
     "text": [
      "X_train Shape : (17290, 21)\n",
      "X_test Shape : (4323, 21)\n",
      "y_train Shape : (17290,)\n",
      "y_test Shape : (4323,)\n"
     ]
    }
   ],
   "source": [
    "x_train,x_test,y_train,y_test=train_test_split(X_std,Y,test_size=0.2,random_state=52)\n",
    "\n",
    "print('X_train Shape :',x_train.shape)\n",
    "print('X_test Shape :',x_test.shape)\n",
    "print('y_train Shape :',y_train.shape)\n",
    "print('y_test Shape :',y_test.shape)"
   ]
  },
  {
   "cell_type": "markdown",
   "metadata": {},
   "source": [
    "### 学習\n",
    "\n",
    "片っ端からモデルを試してみる\n",
    "**アンサンブル学習もあり**\n",
    "\n",
    "---評価指標---\n",
    "- $R^2$ (決定係数)\n",
    "\n",
    "$R^2$ (決定係数)は以下の式で計算され、出力の実測値 $y_{obs}$ と出力の予測値 $y_{pred}$ の間の相関係数を表す．\n",
    "\n",
    "$R^2$ は $y_{obs}$ と $y_{pred}$ が完全に一致する場合に 1 となり、1 に近いほど精度の高い予測が行えていることを表す．\n",
    "\n",
    "- Root Mean Squared Error (RMSE)\n",
    "\n",
    "RMSE は、後述する MAE と共に平均化された誤差の値を表す．\n",
    "\n",
    "RMSE が 0 に近いほど見積もられる予測誤差が小さい、すなわち予測精度が高いことを表す．\n",
    "\n",
    "- Mean Absolute Error (MAE)\n",
    "\n",
    "MAE は以下の式で計算され、RMSE と共に平均化された誤差の大きさを表す．"
   ]
  },
  {
   "cell_type": "code",
   "execution_count": 308,
   "metadata": {},
   "outputs": [
    {
     "name": "stdout",
     "output_type": "stream",
     "text": [
      "r2 score: 0.8365047513125766\n",
      "mean absolute error: 0.08331961242630949\n",
      "mean squared error: 0.038215250141971545\n"
     ]
    }
   ],
   "source": [
    "from sklearn import datasets\n",
    "from sklearn.ensemble import RandomForestClassifier\n",
    "from sklearn.model_selection import StratifiedKFold\n",
    "from sklearn.model_selection import cross_validate\n",
    "from sklearn.metrics import make_scorer\n",
    "from sklearn.linear_model import LinearRegression\n",
    "\n",
    "dataset = datasets.load_breast_cancer()\n",
    "X, y = dataset.data, dataset.target\n",
    "\n",
    "clf = LinerRegression()\n",
    "skf = StratifiedKFold(n_splits=5, shuffle=True, random_state=42)\n",
    "\n",
    "score_funcs = {\n",
    "    #'builtin_accuracy': 'accuracy',\n",
    "    # オリジナルの評価関数を登録する\n",
    "    #'custom_accuracy': make_scorer(accuracy_score),  # make_scorer() でラップする\n",
    "    \"mean_absolute_error\": make_scorer(mean_absolute_error),\n",
    "    \"r2_score\": make_scorer(r2_score),\n",
    "    \"mean_squared_error\": make_scorer(mean_squared_error)\n",
    "}\n",
    "\n",
    "scores = cross_validate(clf, X, y, cv=skf, scoring=score_funcs)\n",
    "\n",
    "print('r2 score:', scores['test_r2_score'].mean())\n",
    "print('mean absolute error:', scores['test_mean_absolute_error'].mean())\n",
    "print('mean squared error:', scores['test_mean_squared_error'].mean())"
   ]
  },
  {
   "cell_type": "code",
   "execution_count": 338,
   "metadata": {},
   "outputs": [],
   "source": [
    "# 交差検証 設定\n",
    "from sklearn.model_selection import StratifiedKFold\n",
    "from sklearn.model_selection import KFold\n",
    "from sklearn.model_selection import cross_validate\n",
    "from sklearn.metrics import make_scorer\n",
    "\n",
    "#skf = StratifiedKFold(n_splits=5, shuffle=True, random_state=42)\n",
    "skf = KFold(n_splits=5, shuffle=True, random_state=42)\n",
    "\n",
    "score_funcs = {\n",
    "    #'builtin_accuracy': 'accuracy',\n",
    "    # オリジナルの評価関数を登録する\n",
    "    #'custom_accuracy': make_scorer(accuracy_score),  # make_scorer() でラップする\n",
    "    \"mean_absolute_error\": make_scorer(mean_absolute_error),\n",
    "    \"r2_score\": make_scorer(r2_score),\n",
    "    \"mean_squared_error\": make_scorer(mean_squared_error)\n",
    "}\n",
    "\n",
    "#scores = cross_validate(clf, X, y, cv=skf, scoring=score_funcs)\n",
    "\n",
    "#print('r2 score:', scores['test_r2_score'].mean())\n",
    "#print('mean absolute error:', scores['test_mean_absolute_error'].mean())\n",
    "#print('mean squared error:', scores['test_mean_squared_error'].mean())"
   ]
  },
  {
   "cell_type": "code",
   "execution_count": 340,
   "metadata": {},
   "outputs": [
    {
     "name": "stdout",
     "output_type": "stream",
     "text": [
      "----------LGBM----------\n",
      "r2 score: 0.8996512709134089\n",
      "mean absolute error: 0.12028740887346293\n",
      "mean squared error: 0.027824884459342704\n"
     ]
    }
   ],
   "source": [
    "lgb_regressor=lgb.LGBMRegressor(objective='regression', num_leaves=5, learning_rate=0.035, n_estimators=2177, max_bin=50, bagging_fraction=0.65,bagging_freq=5, bagging_seed=7, \n",
    "                                feature_fraction=0.201, feature_fraction_seed=7,n_jobs=-1)\n",
    "scores = cross_validate(lgb_regressor, X_std, Y, cv=skf, scoring=score_funcs)\n",
    "\n",
    "print('-'*10+'LGBM'+'-'*10)\n",
    "print('r2 score:', scores['test_r2_score'].mean())\n",
    "print('mean absolute error:', scores['test_mean_absolute_error'].mean())\n",
    "print('mean squared error:', scores['test_mean_squared_error'].mean())"
   ]
  },
  {
   "cell_type": "code",
   "execution_count": 341,
   "metadata": {},
   "outputs": [
    {
     "name": "stdout",
     "output_type": "stream",
     "text": [
      "----------GBR----------\n",
      "r2 score: 0.9083195253632603\n",
      "mean absolute error: 0.11235119931926105\n",
      "mean squared error: 0.025417436008330702\n"
     ]
    }
   ],
   "source": [
    "gb_reg = GradientBoostingRegressor(n_estimators=1992, learning_rate=0.03005, max_depth=4, max_features='sqrt', min_samples_leaf=15, min_samples_split=14, loss='huber', random_state =42)\n",
    "scores = cross_validate(gb_reg, X_std, Y, cv=skf, scoring=score_funcs)\n",
    "\n",
    "print('-'*10+'GBR'+'-'*10)\n",
    "print('r2 score:', scores['test_r2_score'].mean())\n",
    "print('mean absolute error:', scores['test_mean_absolute_error'].mean())\n",
    "print('mean squared error:', scores['test_mean_squared_error'].mean())"
   ]
  },
  {
   "cell_type": "code",
   "execution_count": 342,
   "metadata": {},
   "outputs": [
    {
     "name": "stdout",
     "output_type": "stream",
     "text": [
      "----------RidgeCV----------\n",
      "r2 score: 0.7725288512084825\n",
      "mean absolute error: 0.19471033794587916\n",
      "mean squared error: 0.06307918314872732\n"
     ]
    }
   ],
   "source": [
    "kfolds = KFold(n_splits=10, shuffle=True, random_state=42)\n",
    "\n",
    "alphas=[1e-9,1e-8,1e-7,1e-6]\n",
    "\n",
    "ridgecv_reg= make_pipeline(RidgeCV(alphas=alphas, cv=kfolds))\n",
    "scores = cross_validate(ridgecv_reg, X_std, Y, cv=skf, scoring=score_funcs)\n",
    "\n",
    "#ridgecv_reg.fit(x_train, y_train)\n",
    "#y_head=ridgecv_reg.predict(x_test)\n",
    "print('-'*10+'RidgeCV'+'-'*10)\n",
    "print('r2 score:', scores['test_r2_score'].mean())\n",
    "print('mean absolute error:', scores['test_mean_absolute_error'].mean())\n",
    "print('mean squared error:', scores['test_mean_squared_error'].mean())"
   ]
  },
  {
   "cell_type": "code",
   "execution_count": 157,
   "metadata": {},
   "outputs": [
    {
     "data": {
      "text/html": [
       "<div>\n",
       "<style scoped>\n",
       "    .dataframe tbody tr th:only-of-type {\n",
       "        vertical-align: middle;\n",
       "    }\n",
       "\n",
       "    .dataframe tbody tr th {\n",
       "        vertical-align: top;\n",
       "    }\n",
       "\n",
       "    .dataframe thead th {\n",
       "        text-align: right;\n",
       "    }\n",
       "</style>\n",
       "<table border=\"1\" class=\"dataframe\">\n",
       "  <thead>\n",
       "    <tr style=\"text-align: right;\">\n",
       "      <th></th>\n",
       "      <th>ans</th>\n",
       "      <th>test</th>\n",
       "    </tr>\n",
       "  </thead>\n",
       "  <tbody>\n",
       "    <tr>\n",
       "      <th>2005</th>\n",
       "      <td>276900.0</td>\n",
       "      <td>342295.0</td>\n",
       "    </tr>\n",
       "    <tr>\n",
       "      <th>17841</th>\n",
       "      <td>159100.0</td>\n",
       "      <td>223261.0</td>\n",
       "    </tr>\n",
       "    <tr>\n",
       "      <th>17859</th>\n",
       "      <td>430000.0</td>\n",
       "      <td>753625.0</td>\n",
       "    </tr>\n",
       "    <tr>\n",
       "      <th>814</th>\n",
       "      <td>2400000.0</td>\n",
       "      <td>1650036.0</td>\n",
       "    </tr>\n",
       "    <tr>\n",
       "      <th>2632</th>\n",
       "      <td>249999.0</td>\n",
       "      <td>235697.0</td>\n",
       "    </tr>\n",
       "  </tbody>\n",
       "</table>\n",
       "</div>"
      ],
      "text/plain": [
       "             ans       test\n",
       "2005    276900.0   342295.0\n",
       "17841   159100.0   223261.0\n",
       "17859   430000.0   753625.0\n",
       "814    2400000.0  1650036.0\n",
       "2632    249999.0   235697.0"
      ]
     },
     "execution_count": 157,
     "metadata": {},
     "output_type": "execute_result"
    }
   ],
   "source": [
    "pd.DataFrame({\"ans\":np.floor(np.expm1(y_test)), \"test\":np.floor(np.expm1(y_head))}).head()"
   ]
  },
  {
   "cell_type": "code",
   "execution_count": 343,
   "metadata": {},
   "outputs": [
    {
     "name": "stderr",
     "output_type": "stream",
     "text": [
      "C:\\Users\\hirakata\\Anaconda3\\lib\\site-packages\\sklearn\\linear_model\\coordinate_descent.py:471: ConvergenceWarning: Objective did not converge. You might want to increase the number of iterations. Duality gap: 79.87961847647466, tolerance: 0.4168056524408049\n",
      "  tol, rng, random, positive)\n",
      "C:\\Users\\hirakata\\Anaconda3\\lib\\site-packages\\sklearn\\linear_model\\coordinate_descent.py:471: ConvergenceWarning: Objective did not converge. You might want to increase the number of iterations. Duality gap: 79.86060114922714, tolerance: 0.4168056524408049\n",
      "  tol, rng, random, positive)\n",
      "C:\\Users\\hirakata\\Anaconda3\\lib\\site-packages\\sklearn\\linear_model\\coordinate_descent.py:471: ConvergenceWarning: Objective did not converge. You might want to increase the number of iterations. Duality gap: 79.85869816961372, tolerance: 0.4168056524408049\n",
      "  tol, rng, random, positive)\n",
      "C:\\Users\\hirakata\\Anaconda3\\lib\\site-packages\\sklearn\\linear_model\\coordinate_descent.py:471: ConvergenceWarning: Objective did not converge. You might want to increase the number of iterations. Duality gap: 79.85869305880624, tolerance: 0.4168056524408049\n",
      "  tol, rng, random, positive)\n",
      "C:\\Users\\hirakata\\Anaconda3\\lib\\site-packages\\sklearn\\linear_model\\coordinate_descent.py:471: ConvergenceWarning: Objective did not converge. You might want to increase the number of iterations. Duality gap: 77.57880831771718, tolerance: 0.41989776570628884\n",
      "  tol, rng, random, positive)\n",
      "C:\\Users\\hirakata\\Anaconda3\\lib\\site-packages\\sklearn\\linear_model\\coordinate_descent.py:471: ConvergenceWarning: Objective did not converge. You might want to increase the number of iterations. Duality gap: 77.55980538536528, tolerance: 0.41989776570628884\n",
      "  tol, rng, random, positive)\n",
      "C:\\Users\\hirakata\\Anaconda3\\lib\\site-packages\\sklearn\\linear_model\\coordinate_descent.py:471: ConvergenceWarning: Objective did not converge. You might want to increase the number of iterations. Duality gap: 77.55790040425086, tolerance: 0.41989776570628884\n",
      "  tol, rng, random, positive)\n",
      "C:\\Users\\hirakata\\Anaconda3\\lib\\site-packages\\sklearn\\linear_model\\coordinate_descent.py:471: ConvergenceWarning: Objective did not converge. You might want to increase the number of iterations. Duality gap: 77.5577958610238, tolerance: 0.41989776570628884\n",
      "  tol, rng, random, positive)\n",
      "C:\\Users\\hirakata\\Anaconda3\\lib\\site-packages\\sklearn\\linear_model\\coordinate_descent.py:471: ConvergenceWarning: Objective did not converge. You might want to increase the number of iterations. Duality gap: 78.33634736395823, tolerance: 0.41580466926583926\n",
      "  tol, rng, random, positive)\n",
      "C:\\Users\\hirakata\\Anaconda3\\lib\\site-packages\\sklearn\\linear_model\\coordinate_descent.py:471: ConvergenceWarning: Objective did not converge. You might want to increase the number of iterations. Duality gap: 78.31739244133416, tolerance: 0.41580466926583926\n",
      "  tol, rng, random, positive)\n",
      "C:\\Users\\hirakata\\Anaconda3\\lib\\site-packages\\sklearn\\linear_model\\coordinate_descent.py:471: ConvergenceWarning: Objective did not converge. You might want to increase the number of iterations. Duality gap: 78.31550266324064, tolerance: 0.41580466926583926\n",
      "  tol, rng, random, positive)\n",
      "C:\\Users\\hirakata\\Anaconda3\\lib\\site-packages\\sklearn\\linear_model\\coordinate_descent.py:471: ConvergenceWarning: Objective did not converge. You might want to increase the number of iterations. Duality gap: 78.31557265230788, tolerance: 0.41580466926583926\n",
      "  tol, rng, random, positive)\n",
      "C:\\Users\\hirakata\\Anaconda3\\lib\\site-packages\\sklearn\\linear_model\\coordinate_descent.py:471: ConvergenceWarning: Objective did not converge. You might want to increase the number of iterations. Duality gap: 77.94331387567593, tolerance: 0.4152076404253424\n",
      "  tol, rng, random, positive)\n",
      "C:\\Users\\hirakata\\Anaconda3\\lib\\site-packages\\sklearn\\linear_model\\coordinate_descent.py:471: ConvergenceWarning: Objective did not converge. You might want to increase the number of iterations. Duality gap: 77.92435670387499, tolerance: 0.4152076404253424\n",
      "  tol, rng, random, positive)\n",
      "C:\\Users\\hirakata\\Anaconda3\\lib\\site-packages\\sklearn\\linear_model\\coordinate_descent.py:471: ConvergenceWarning: Objective did not converge. You might want to increase the number of iterations. Duality gap: 77.92248349468366, tolerance: 0.4152076404253424\n",
      "  tol, rng, random, positive)\n",
      "C:\\Users\\hirakata\\Anaconda3\\lib\\site-packages\\sklearn\\linear_model\\coordinate_descent.py:471: ConvergenceWarning: Objective did not converge. You might want to increase the number of iterations. Duality gap: 77.9224134413655, tolerance: 0.4152076404253424\n",
      "  tol, rng, random, positive)\n",
      "C:\\Users\\hirakata\\Anaconda3\\lib\\site-packages\\sklearn\\linear_model\\coordinate_descent.py:471: ConvergenceWarning: Objective did not converge. You might want to increase the number of iterations. Duality gap: 78.3307513664488, tolerance: 0.4159212876629853\n",
      "  tol, rng, random, positive)\n",
      "C:\\Users\\hirakata\\Anaconda3\\lib\\site-packages\\sklearn\\linear_model\\coordinate_descent.py:471: ConvergenceWarning: Objective did not converge. You might want to increase the number of iterations. Duality gap: 78.3118096833532, tolerance: 0.4159212876629853\n",
      "  tol, rng, random, positive)\n",
      "C:\\Users\\hirakata\\Anaconda3\\lib\\site-packages\\sklearn\\linear_model\\coordinate_descent.py:471: ConvergenceWarning: Objective did not converge. You might want to increase the number of iterations. Duality gap: 78.30993917901765, tolerance: 0.4159212876629853\n",
      "  tol, rng, random, positive)\n",
      "C:\\Users\\hirakata\\Anaconda3\\lib\\site-packages\\sklearn\\linear_model\\coordinate_descent.py:471: ConvergenceWarning: Objective did not converge. You might want to increase the number of iterations. Duality gap: 78.30989957913778, tolerance: 0.4159212876629853\n",
      "  tol, rng, random, positive)\n",
      "C:\\Users\\hirakata\\Anaconda3\\lib\\site-packages\\sklearn\\linear_model\\coordinate_descent.py:471: ConvergenceWarning: Objective did not converge. You might want to increase the number of iterations. Duality gap: 76.7901062220484, tolerance: 0.4162792025663847\n",
      "  tol, rng, random, positive)\n",
      "C:\\Users\\hirakata\\Anaconda3\\lib\\site-packages\\sklearn\\linear_model\\coordinate_descent.py:471: ConvergenceWarning: Objective did not converge. You might want to increase the number of iterations. Duality gap: 76.7710400717308, tolerance: 0.4162792025663847\n",
      "  tol, rng, random, positive)\n",
      "C:\\Users\\hirakata\\Anaconda3\\lib\\site-packages\\sklearn\\linear_model\\coordinate_descent.py:471: ConvergenceWarning: Objective did not converge. You might want to increase the number of iterations. Duality gap: 76.76914801921316, tolerance: 0.4162792025663847\n",
      "  tol, rng, random, positive)\n",
      "C:\\Users\\hirakata\\Anaconda3\\lib\\site-packages\\sklearn\\linear_model\\coordinate_descent.py:471: ConvergenceWarning: Objective did not converge. You might want to increase the number of iterations. Duality gap: 76.76900240071757, tolerance: 0.4162792025663847\n",
      "  tol, rng, random, positive)\n",
      "C:\\Users\\hirakata\\Anaconda3\\lib\\site-packages\\sklearn\\linear_model\\coordinate_descent.py:471: ConvergenceWarning: Objective did not converge. You might want to increase the number of iterations. Duality gap: 78.9674244939199, tolerance: 0.4175082696521231\n",
      "  tol, rng, random, positive)\n",
      "C:\\Users\\hirakata\\Anaconda3\\lib\\site-packages\\sklearn\\linear_model\\coordinate_descent.py:471: ConvergenceWarning: Objective did not converge. You might want to increase the number of iterations. Duality gap: 78.94835265282768, tolerance: 0.4175082696521231\n",
      "  tol, rng, random, positive)\n",
      "C:\\Users\\hirakata\\Anaconda3\\lib\\site-packages\\sklearn\\linear_model\\coordinate_descent.py:471: ConvergenceWarning: Objective did not converge. You might want to increase the number of iterations. Duality gap: 78.94646681177176, tolerance: 0.4175082696521231\n",
      "  tol, rng, random, positive)\n",
      "C:\\Users\\hirakata\\Anaconda3\\lib\\site-packages\\sklearn\\linear_model\\coordinate_descent.py:471: ConvergenceWarning: Objective did not converge. You might want to increase the number of iterations. Duality gap: 78.94636546400318, tolerance: 0.4175082696521231\n",
      "  tol, rng, random, positive)\n",
      "C:\\Users\\hirakata\\Anaconda3\\lib\\site-packages\\sklearn\\linear_model\\coordinate_descent.py:471: ConvergenceWarning: Objective did not converge. You might want to increase the number of iterations. Duality gap: 78.2025692033435, tolerance: 0.4161385009375652\n",
      "  tol, rng, random, positive)\n",
      "C:\\Users\\hirakata\\Anaconda3\\lib\\site-packages\\sklearn\\linear_model\\coordinate_descent.py:471: ConvergenceWarning: Objective did not converge. You might want to increase the number of iterations. Duality gap: 78.1836613045989, tolerance: 0.4161385009375652\n",
      "  tol, rng, random, positive)\n",
      "C:\\Users\\hirakata\\Anaconda3\\lib\\site-packages\\sklearn\\linear_model\\coordinate_descent.py:471: ConvergenceWarning: Objective did not converge. You might want to increase the number of iterations. Duality gap: 78.1817938528078, tolerance: 0.4161385009375652\n",
      "  tol, rng, random, positive)\n",
      "C:\\Users\\hirakata\\Anaconda3\\lib\\site-packages\\sklearn\\linear_model\\coordinate_descent.py:471: ConvergenceWarning: Objective did not converge. You might want to increase the number of iterations. Duality gap: 78.18177489589641, tolerance: 0.4161385009375652\n",
      "  tol, rng, random, positive)\n"
     ]
    },
    {
     "name": "stderr",
     "output_type": "stream",
     "text": [
      "C:\\Users\\hirakata\\Anaconda3\\lib\\site-packages\\sklearn\\linear_model\\coordinate_descent.py:475: ConvergenceWarning: Objective did not converge. You might want to increase the number of iterations. Duality gap: 89.45086699664205, tolerance: 0.47622721460279527\n",
      "  positive)\n",
      "C:\\Users\\hirakata\\Anaconda3\\lib\\site-packages\\sklearn\\linear_model\\coordinate_descent.py:471: ConvergenceWarning: Objective did not converge. You might want to increase the number of iterations. Duality gap: 81.46714079317815, tolerance: 0.41660513526430243\n",
      "  tol, rng, random, positive)\n",
      "C:\\Users\\hirakata\\Anaconda3\\lib\\site-packages\\sklearn\\linear_model\\coordinate_descent.py:471: ConvergenceWarning: Objective did not converge. You might want to increase the number of iterations. Duality gap: 81.44800715425868, tolerance: 0.41660513526430243\n",
      "  tol, rng, random, positive)\n",
      "C:\\Users\\hirakata\\Anaconda3\\lib\\site-packages\\sklearn\\linear_model\\coordinate_descent.py:471: ConvergenceWarning: Objective did not converge. You might want to increase the number of iterations. Duality gap: 81.44609590708171, tolerance: 0.41660513526430243\n",
      "  tol, rng, random, positive)\n",
      "C:\\Users\\hirakata\\Anaconda3\\lib\\site-packages\\sklearn\\linear_model\\coordinate_descent.py:471: ConvergenceWarning: Objective did not converge. You might want to increase the number of iterations. Duality gap: 81.44600471989361, tolerance: 0.41660513526430243\n",
      "  tol, rng, random, positive)\n",
      "C:\\Users\\hirakata\\Anaconda3\\lib\\site-packages\\sklearn\\linear_model\\coordinate_descent.py:471: ConvergenceWarning: Objective did not converge. You might want to increase the number of iterations. Duality gap: 82.40839114851042, tolerance: 0.42153206713875163\n",
      "  tol, rng, random, positive)\n",
      "C:\\Users\\hirakata\\Anaconda3\\lib\\site-packages\\sklearn\\linear_model\\coordinate_descent.py:471: ConvergenceWarning: Objective did not converge. You might want to increase the number of iterations. Duality gap: 82.38935576364702, tolerance: 0.42153206713875163\n",
      "  tol, rng, random, positive)\n",
      "C:\\Users\\hirakata\\Anaconda3\\lib\\site-packages\\sklearn\\linear_model\\coordinate_descent.py:471: ConvergenceWarning: Objective did not converge. You might want to increase the number of iterations. Duality gap: 82.38745901343714, tolerance: 0.42153206713875163\n",
      "  tol, rng, random, positive)\n",
      "C:\\Users\\hirakata\\Anaconda3\\lib\\site-packages\\sklearn\\linear_model\\coordinate_descent.py:471: ConvergenceWarning: Objective did not converge. You might want to increase the number of iterations. Duality gap: 82.38726114864153, tolerance: 0.42153206713875163\n",
      "  tol, rng, random, positive)\n",
      "C:\\Users\\hirakata\\Anaconda3\\lib\\site-packages\\sklearn\\linear_model\\coordinate_descent.py:471: ConvergenceWarning: Objective did not converge. You might want to increase the number of iterations. Duality gap: 80.34007034692877, tolerance: 0.41645897588544095\n",
      "  tol, rng, random, positive)\n",
      "C:\\Users\\hirakata\\Anaconda3\\lib\\site-packages\\sklearn\\linear_model\\coordinate_descent.py:471: ConvergenceWarning: Objective did not converge. You might want to increase the number of iterations. Duality gap: 80.32095932211973, tolerance: 0.41645897588544095\n",
      "  tol, rng, random, positive)\n",
      "C:\\Users\\hirakata\\Anaconda3\\lib\\site-packages\\sklearn\\linear_model\\coordinate_descent.py:471: ConvergenceWarning: Objective did not converge. You might want to increase the number of iterations. Duality gap: 80.31905141581694, tolerance: 0.41645897588544095\n",
      "  tol, rng, random, positive)\n",
      "C:\\Users\\hirakata\\Anaconda3\\lib\\site-packages\\sklearn\\linear_model\\coordinate_descent.py:471: ConvergenceWarning: Objective did not converge. You might want to increase the number of iterations. Duality gap: 80.31887660498319, tolerance: 0.41645897588544095\n",
      "  tol, rng, random, positive)\n",
      "C:\\Users\\hirakata\\Anaconda3\\lib\\site-packages\\sklearn\\linear_model\\coordinate_descent.py:471: ConvergenceWarning: Objective did not converge. You might want to increase the number of iterations. Duality gap: 81.28497964627309, tolerance: 0.41816625544549124\n",
      "  tol, rng, random, positive)\n",
      "C:\\Users\\hirakata\\Anaconda3\\lib\\site-packages\\sklearn\\linear_model\\coordinate_descent.py:471: ConvergenceWarning: Objective did not converge. You might want to increase the number of iterations. Duality gap: 81.26564600705342, tolerance: 0.41816625544549124\n",
      "  tol, rng, random, positive)\n",
      "C:\\Users\\hirakata\\Anaconda3\\lib\\site-packages\\sklearn\\linear_model\\coordinate_descent.py:471: ConvergenceWarning: Objective did not converge. You might want to increase the number of iterations. Duality gap: 81.26372172439676, tolerance: 0.41816625544549124\n",
      "  tol, rng, random, positive)\n",
      "C:\\Users\\hirakata\\Anaconda3\\lib\\site-packages\\sklearn\\linear_model\\coordinate_descent.py:471: ConvergenceWarning: Objective did not converge. You might want to increase the number of iterations. Duality gap: 81.263658767175, tolerance: 0.41816625544549124\n",
      "  tol, rng, random, positive)\n",
      "C:\\Users\\hirakata\\Anaconda3\\lib\\site-packages\\sklearn\\linear_model\\coordinate_descent.py:471: ConvergenceWarning: Objective did not converge. You might want to increase the number of iterations. Duality gap: 81.10397498519978, tolerance: 0.42064046309295244\n",
      "  tol, rng, random, positive)\n",
      "C:\\Users\\hirakata\\Anaconda3\\lib\\site-packages\\sklearn\\linear_model\\coordinate_descent.py:471: ConvergenceWarning: Objective did not converge. You might want to increase the number of iterations. Duality gap: 81.08479576210357, tolerance: 0.42064046309295244\n",
      "  tol, rng, random, positive)\n",
      "C:\\Users\\hirakata\\Anaconda3\\lib\\site-packages\\sklearn\\linear_model\\coordinate_descent.py:471: ConvergenceWarning: Objective did not converge. You might want to increase the number of iterations. Duality gap: 81.08287566047807, tolerance: 0.42064046309295244\n",
      "  tol, rng, random, positive)\n",
      "C:\\Users\\hirakata\\Anaconda3\\lib\\site-packages\\sklearn\\linear_model\\coordinate_descent.py:471: ConvergenceWarning: Objective did not converge. You might want to increase the number of iterations. Duality gap: 81.08268408136189, tolerance: 0.42064046309295244\n",
      "  tol, rng, random, positive)\n",
      "C:\\Users\\hirakata\\Anaconda3\\lib\\site-packages\\sklearn\\linear_model\\coordinate_descent.py:471: ConvergenceWarning: Objective did not converge. You might want to increase the number of iterations. Duality gap: 81.71744357286593, tolerance: 0.4199503636779751\n",
      "  tol, rng, random, positive)\n",
      "C:\\Users\\hirakata\\Anaconda3\\lib\\site-packages\\sklearn\\linear_model\\coordinate_descent.py:471: ConvergenceWarning: Objective did not converge. You might want to increase the number of iterations. Duality gap: 81.69839360643687, tolerance: 0.4199503636779751\n",
      "  tol, rng, random, positive)\n",
      "C:\\Users\\hirakata\\Anaconda3\\lib\\site-packages\\sklearn\\linear_model\\coordinate_descent.py:471: ConvergenceWarning: Objective did not converge. You might want to increase the number of iterations. Duality gap: 81.6964943520552, tolerance: 0.4199503636779751\n",
      "  tol, rng, random, positive)\n",
      "C:\\Users\\hirakata\\Anaconda3\\lib\\site-packages\\sklearn\\linear_model\\coordinate_descent.py:471: ConvergenceWarning: Objective did not converge. You might want to increase the number of iterations. Duality gap: 81.69635696685827, tolerance: 0.4199503636779751\n",
      "  tol, rng, random, positive)\n",
      "C:\\Users\\hirakata\\Anaconda3\\lib\\site-packages\\sklearn\\linear_model\\coordinate_descent.py:471: ConvergenceWarning: Objective did not converge. You might want to increase the number of iterations. Duality gap: 81.46335903645775, tolerance: 0.4147259650092647\n",
      "  tol, rng, random, positive)\n",
      "C:\\Users\\hirakata\\Anaconda3\\lib\\site-packages\\sklearn\\linear_model\\coordinate_descent.py:471: ConvergenceWarning: Objective did not converge. You might want to increase the number of iterations. Duality gap: 81.44425109893893, tolerance: 0.4147259650092647\n",
      "  tol, rng, random, positive)\n",
      "C:\\Users\\hirakata\\Anaconda3\\lib\\site-packages\\sklearn\\linear_model\\coordinate_descent.py:471: ConvergenceWarning: Objective did not converge. You might want to increase the number of iterations. Duality gap: 81.44234259679638, tolerance: 0.4147259650092647\n",
      "  tol, rng, random, positive)\n",
      "C:\\Users\\hirakata\\Anaconda3\\lib\\site-packages\\sklearn\\linear_model\\coordinate_descent.py:471: ConvergenceWarning: Objective did not converge. You might want to increase the number of iterations. Duality gap: 81.44207978429392, tolerance: 0.4147259650092647\n",
      "  tol, rng, random, positive)\n",
      "C:\\Users\\hirakata\\Anaconda3\\lib\\site-packages\\sklearn\\linear_model\\coordinate_descent.py:471: ConvergenceWarning: Objective did not converge. You might want to increase the number of iterations. Duality gap: 82.42727700327316, tolerance: 0.42159167642159684\n",
      "  tol, rng, random, positive)\n",
      "C:\\Users\\hirakata\\Anaconda3\\lib\\site-packages\\sklearn\\linear_model\\coordinate_descent.py:471: ConvergenceWarning: Objective did not converge. You might want to increase the number of iterations. Duality gap: 82.40820161647707, tolerance: 0.42159167642159684\n",
      "  tol, rng, random, positive)\n",
      "C:\\Users\\hirakata\\Anaconda3\\lib\\site-packages\\sklearn\\linear_model\\coordinate_descent.py:471: ConvergenceWarning: Objective did not converge. You might want to increase the number of iterations. Duality gap: 82.40629025232238, tolerance: 0.42159167642159684\n",
      "  tol, rng, random, positive)\n",
      "C:\\Users\\hirakata\\Anaconda3\\lib\\site-packages\\sklearn\\linear_model\\coordinate_descent.py:471: ConvergenceWarning: Objective did not converge. You might want to increase the number of iterations. Duality gap: 82.40622962361238, tolerance: 0.42159167642159684\n",
      "  tol, rng, random, positive)\n"
     ]
    },
    {
     "name": "stderr",
     "output_type": "stream",
     "text": [
      "C:\\Users\\hirakata\\Anaconda3\\lib\\site-packages\\sklearn\\linear_model\\coordinate_descent.py:475: ConvergenceWarning: Objective did not converge. You might want to increase the number of iterations. Duality gap: 93.19721522653833, tolerance: 0.4785313838843393\n",
      "  positive)\n",
      "C:\\Users\\hirakata\\Anaconda3\\lib\\site-packages\\sklearn\\linear_model\\coordinate_descent.py:471: ConvergenceWarning: Objective did not converge. You might want to increase the number of iterations. Duality gap: 79.92246738750475, tolerance: 0.42351184481927134\n",
      "  tol, rng, random, positive)\n",
      "C:\\Users\\hirakata\\Anaconda3\\lib\\site-packages\\sklearn\\linear_model\\coordinate_descent.py:471: ConvergenceWarning: Objective did not converge. You might want to increase the number of iterations. Duality gap: 79.90306758971929, tolerance: 0.42351184481927134\n",
      "  tol, rng, random, positive)\n",
      "C:\\Users\\hirakata\\Anaconda3\\lib\\site-packages\\sklearn\\linear_model\\coordinate_descent.py:471: ConvergenceWarning: Objective did not converge. You might want to increase the number of iterations. Duality gap: 79.90113348233297, tolerance: 0.42351184481927134\n",
      "  tol, rng, random, positive)\n",
      "C:\\Users\\hirakata\\Anaconda3\\lib\\site-packages\\sklearn\\linear_model\\coordinate_descent.py:471: ConvergenceWarning: Objective did not converge. You might want to increase the number of iterations. Duality gap: 79.90098948974082, tolerance: 0.42351184481927134\n",
      "  tol, rng, random, positive)\n",
      "C:\\Users\\hirakata\\Anaconda3\\lib\\site-packages\\sklearn\\linear_model\\coordinate_descent.py:471: ConvergenceWarning: Objective did not converge. You might want to increase the number of iterations. Duality gap: 80.51868291188919, tolerance: 0.41959135844743506\n",
      "  tol, rng, random, positive)\n",
      "C:\\Users\\hirakata\\Anaconda3\\lib\\site-packages\\sklearn\\linear_model\\coordinate_descent.py:471: ConvergenceWarning: Objective did not converge. You might want to increase the number of iterations. Duality gap: 80.49930184467439, tolerance: 0.41959135844743506\n",
      "  tol, rng, random, positive)\n",
      "C:\\Users\\hirakata\\Anaconda3\\lib\\site-packages\\sklearn\\linear_model\\coordinate_descent.py:471: ConvergenceWarning: Objective did not converge. You might want to increase the number of iterations. Duality gap: 80.49737235303849, tolerance: 0.41959135844743506\n",
      "  tol, rng, random, positive)\n",
      "C:\\Users\\hirakata\\Anaconda3\\lib\\site-packages\\sklearn\\linear_model\\coordinate_descent.py:471: ConvergenceWarning: Objective did not converge. You might want to increase the number of iterations. Duality gap: 80.49725374610375, tolerance: 0.41959135844743506\n",
      "  tol, rng, random, positive)\n",
      "C:\\Users\\hirakata\\Anaconda3\\lib\\site-packages\\sklearn\\linear_model\\coordinate_descent.py:471: ConvergenceWarning: Objective did not converge. You might want to increase the number of iterations. Duality gap: 79.49629700325909, tolerance: 0.4221578013938402\n",
      "  tol, rng, random, positive)\n",
      "C:\\Users\\hirakata\\Anaconda3\\lib\\site-packages\\sklearn\\linear_model\\coordinate_descent.py:471: ConvergenceWarning: Objective did not converge. You might want to increase the number of iterations. Duality gap: 79.47696993981151, tolerance: 0.4221578013938402\n",
      "  tol, rng, random, positive)\n",
      "C:\\Users\\hirakata\\Anaconda3\\lib\\site-packages\\sklearn\\linear_model\\coordinate_descent.py:471: ConvergenceWarning: Objective did not converge. You might want to increase the number of iterations. Duality gap: 79.47504480434009, tolerance: 0.4221578013938402\n",
      "  tol, rng, random, positive)\n",
      "C:\\Users\\hirakata\\Anaconda3\\lib\\site-packages\\sklearn\\linear_model\\coordinate_descent.py:471: ConvergenceWarning: Objective did not converge. You might want to increase the number of iterations. Duality gap: 79.47488604422415, tolerance: 0.4221578013938402\n",
      "  tol, rng, random, positive)\n",
      "C:\\Users\\hirakata\\Anaconda3\\lib\\site-packages\\sklearn\\linear_model\\coordinate_descent.py:471: ConvergenceWarning: Objective did not converge. You might want to increase the number of iterations. Duality gap: 81.68321511865997, tolerance: 0.42267362353113713\n",
      "  tol, rng, random, positive)\n",
      "C:\\Users\\hirakata\\Anaconda3\\lib\\site-packages\\sklearn\\linear_model\\coordinate_descent.py:471: ConvergenceWarning: Objective did not converge. You might want to increase the number of iterations. Duality gap: 81.66375300297955, tolerance: 0.42267362353113713\n",
      "  tol, rng, random, positive)\n",
      "C:\\Users\\hirakata\\Anaconda3\\lib\\site-packages\\sklearn\\linear_model\\coordinate_descent.py:471: ConvergenceWarning: Objective did not converge. You might want to increase the number of iterations. Duality gap: 81.66181142544667, tolerance: 0.42267362353113713\n",
      "  tol, rng, random, positive)\n",
      "C:\\Users\\hirakata\\Anaconda3\\lib\\site-packages\\sklearn\\linear_model\\coordinate_descent.py:471: ConvergenceWarning: Objective did not converge. You might want to increase the number of iterations. Duality gap: 81.6617202437227, tolerance: 0.42267362353113713\n",
      "  tol, rng, random, positive)\n",
      "C:\\Users\\hirakata\\Anaconda3\\lib\\site-packages\\sklearn\\linear_model\\coordinate_descent.py:471: ConvergenceWarning: Objective did not converge. You might want to increase the number of iterations. Duality gap: 79.95591914414285, tolerance: 0.42555159654479957\n",
      "  tol, rng, random, positive)\n",
      "C:\\Users\\hirakata\\Anaconda3\\lib\\site-packages\\sklearn\\linear_model\\coordinate_descent.py:471: ConvergenceWarning: Objective did not converge. You might want to increase the number of iterations. Duality gap: 79.93641398641626, tolerance: 0.42555159654479957\n",
      "  tol, rng, random, positive)\n",
      "C:\\Users\\hirakata\\Anaconda3\\lib\\site-packages\\sklearn\\linear_model\\coordinate_descent.py:471: ConvergenceWarning: Objective did not converge. You might want to increase the number of iterations. Duality gap: 79.93446805057192, tolerance: 0.42555159654479957\n",
      "  tol, rng, random, positive)\n",
      "C:\\Users\\hirakata\\Anaconda3\\lib\\site-packages\\sklearn\\linear_model\\coordinate_descent.py:471: ConvergenceWarning: Objective did not converge. You might want to increase the number of iterations. Duality gap: 79.93433527089894, tolerance: 0.42555159654479957\n",
      "  tol, rng, random, positive)\n",
      "C:\\Users\\hirakata\\Anaconda3\\lib\\site-packages\\sklearn\\linear_model\\coordinate_descent.py:471: ConvergenceWarning: Objective did not converge. You might want to increase the number of iterations. Duality gap: 80.54106492020765, tolerance: 0.4209622990462904\n",
      "  tol, rng, random, positive)\n",
      "C:\\Users\\hirakata\\Anaconda3\\lib\\site-packages\\sklearn\\linear_model\\coordinate_descent.py:471: ConvergenceWarning: Objective did not converge. You might want to increase the number of iterations. Duality gap: 80.52162939727066, tolerance: 0.4209622990462904\n",
      "  tol, rng, random, positive)\n",
      "C:\\Users\\hirakata\\Anaconda3\\lib\\site-packages\\sklearn\\linear_model\\coordinate_descent.py:471: ConvergenceWarning: Objective did not converge. You might want to increase the number of iterations. Duality gap: 80.51969249023477, tolerance: 0.4209622990462904\n",
      "  tol, rng, random, positive)\n",
      "C:\\Users\\hirakata\\Anaconda3\\lib\\site-packages\\sklearn\\linear_model\\coordinate_descent.py:471: ConvergenceWarning: Objective did not converge. You might want to increase the number of iterations. Duality gap: 80.51959571503812, tolerance: 0.4209622990462904\n",
      "  tol, rng, random, positive)\n",
      "C:\\Users\\hirakata\\Anaconda3\\lib\\site-packages\\sklearn\\linear_model\\coordinate_descent.py:471: ConvergenceWarning: Objective did not converge. You might want to increase the number of iterations. Duality gap: 80.9677980592918, tolerance: 0.424371311917763\n",
      "  tol, rng, random, positive)\n",
      "C:\\Users\\hirakata\\Anaconda3\\lib\\site-packages\\sklearn\\linear_model\\coordinate_descent.py:471: ConvergenceWarning: Objective did not converge. You might want to increase the number of iterations. Duality gap: 80.94839244757725, tolerance: 0.424371311917763\n",
      "  tol, rng, random, positive)\n",
      "C:\\Users\\hirakata\\Anaconda3\\lib\\site-packages\\sklearn\\linear_model\\coordinate_descent.py:471: ConvergenceWarning: Objective did not converge. You might want to increase the number of iterations. Duality gap: 80.94645958094861, tolerance: 0.424371311917763\n",
      "  tol, rng, random, positive)\n",
      "C:\\Users\\hirakata\\Anaconda3\\lib\\site-packages\\sklearn\\linear_model\\coordinate_descent.py:471: ConvergenceWarning: Objective did not converge. You might want to increase the number of iterations. Duality gap: 80.9464033740644, tolerance: 0.424371311917763\n",
      "  tol, rng, random, positive)\n",
      "C:\\Users\\hirakata\\Anaconda3\\lib\\site-packages\\sklearn\\linear_model\\coordinate_descent.py:471: ConvergenceWarning: Objective did not converge. You might want to increase the number of iterations. Duality gap: 80.8922551273456, tolerance: 0.42431060270949456\n",
      "  tol, rng, random, positive)\n",
      "C:\\Users\\hirakata\\Anaconda3\\lib\\site-packages\\sklearn\\linear_model\\coordinate_descent.py:471: ConvergenceWarning: Objective did not converge. You might want to increase the number of iterations. Duality gap: 80.87273773812967, tolerance: 0.42431060270949456\n",
      "  tol, rng, random, positive)\n",
      "C:\\Users\\hirakata\\Anaconda3\\lib\\site-packages\\sklearn\\linear_model\\coordinate_descent.py:471: ConvergenceWarning: Objective did not converge. You might want to increase the number of iterations. Duality gap: 80.87079935257736, tolerance: 0.42431060270949456\n",
      "  tol, rng, random, positive)\n",
      "C:\\Users\\hirakata\\Anaconda3\\lib\\site-packages\\sklearn\\linear_model\\coordinate_descent.py:471: ConvergenceWarning: Objective did not converge. You might want to increase the number of iterations. Duality gap: 80.87071510443081, tolerance: 0.42431060270949456\n",
      "  tol, rng, random, positive)\n"
     ]
    },
    {
     "name": "stderr",
     "output_type": "stream",
     "text": [
      "C:\\Users\\hirakata\\Anaconda3\\lib\\site-packages\\sklearn\\linear_model\\coordinate_descent.py:475: ConvergenceWarning: Objective did not converge. You might want to increase the number of iterations. Duality gap: 91.99454815099921, tolerance: 0.4833074295445825\n",
      "  positive)\n",
      "C:\\Users\\hirakata\\Anaconda3\\lib\\site-packages\\sklearn\\linear_model\\coordinate_descent.py:471: ConvergenceWarning: Objective did not converge. You might want to increase the number of iterations. Duality gap: 82.45119523056565, tolerance: 0.4209204833566459\n",
      "  tol, rng, random, positive)\n",
      "C:\\Users\\hirakata\\Anaconda3\\lib\\site-packages\\sklearn\\linear_model\\coordinate_descent.py:471: ConvergenceWarning: Objective did not converge. You might want to increase the number of iterations. Duality gap: 82.43198854971456, tolerance: 0.4209204833566459\n",
      "  tol, rng, random, positive)\n",
      "C:\\Users\\hirakata\\Anaconda3\\lib\\site-packages\\sklearn\\linear_model\\coordinate_descent.py:471: ConvergenceWarning: Objective did not converge. You might want to increase the number of iterations. Duality gap: 82.43008034780257, tolerance: 0.4209204833566459\n",
      "  tol, rng, random, positive)\n",
      "C:\\Users\\hirakata\\Anaconda3\\lib\\site-packages\\sklearn\\linear_model\\coordinate_descent.py:471: ConvergenceWarning: Objective did not converge. You might want to increase the number of iterations. Duality gap: 82.43007585808687, tolerance: 0.4209204833566459\n",
      "  tol, rng, random, positive)\n",
      "C:\\Users\\hirakata\\Anaconda3\\lib\\site-packages\\sklearn\\linear_model\\coordinate_descent.py:471: ConvergenceWarning: Objective did not converge. You might want to increase the number of iterations. Duality gap: 81.0491745299222, tolerance: 0.41961160286923316\n",
      "  tol, rng, random, positive)\n",
      "C:\\Users\\hirakata\\Anaconda3\\lib\\site-packages\\sklearn\\linear_model\\coordinate_descent.py:471: ConvergenceWarning: Objective did not converge. You might want to increase the number of iterations. Duality gap: 81.0298721085968, tolerance: 0.41961160286923316\n",
      "  tol, rng, random, positive)\n",
      "C:\\Users\\hirakata\\Anaconda3\\lib\\site-packages\\sklearn\\linear_model\\coordinate_descent.py:471: ConvergenceWarning: Objective did not converge. You might want to increase the number of iterations. Duality gap: 81.02795212097476, tolerance: 0.41961160286923316\n",
      "  tol, rng, random, positive)\n",
      "C:\\Users\\hirakata\\Anaconda3\\lib\\site-packages\\sklearn\\linear_model\\coordinate_descent.py:471: ConvergenceWarning: Objective did not converge. You might want to increase the number of iterations. Duality gap: 81.0278812508792, tolerance: 0.41961160286923316\n",
      "  tol, rng, random, positive)\n",
      "C:\\Users\\hirakata\\Anaconda3\\lib\\site-packages\\sklearn\\linear_model\\coordinate_descent.py:471: ConvergenceWarning: Objective did not converge. You might want to increase the number of iterations. Duality gap: 81.64023617719488, tolerance: 0.42340520947943927\n",
      "  tol, rng, random, positive)\n",
      "C:\\Users\\hirakata\\Anaconda3\\lib\\site-packages\\sklearn\\linear_model\\coordinate_descent.py:471: ConvergenceWarning: Objective did not converge. You might want to increase the number of iterations. Duality gap: 81.62094758407193, tolerance: 0.42340520947943927\n",
      "  tol, rng, random, positive)\n",
      "C:\\Users\\hirakata\\Anaconda3\\lib\\site-packages\\sklearn\\linear_model\\coordinate_descent.py:471: ConvergenceWarning: Objective did not converge. You might want to increase the number of iterations. Duality gap: 81.6190234715325, tolerance: 0.42340520947943927\n",
      "  tol, rng, random, positive)\n",
      "C:\\Users\\hirakata\\Anaconda3\\lib\\site-packages\\sklearn\\linear_model\\coordinate_descent.py:471: ConvergenceWarning: Objective did not converge. You might want to increase the number of iterations. Duality gap: 81.61882344578976, tolerance: 0.42340520947943927\n",
      "  tol, rng, random, positive)\n",
      "C:\\Users\\hirakata\\Anaconda3\\lib\\site-packages\\sklearn\\linear_model\\coordinate_descent.py:471: ConvergenceWarning: Objective did not converge. You might want to increase the number of iterations. Duality gap: 81.0490299694086, tolerance: 0.41845195593567497\n",
      "  tol, rng, random, positive)\n",
      "C:\\Users\\hirakata\\Anaconda3\\lib\\site-packages\\sklearn\\linear_model\\coordinate_descent.py:471: ConvergenceWarning: Objective did not converge. You might want to increase the number of iterations. Duality gap: 81.02980604279583, tolerance: 0.41845195593567497\n",
      "  tol, rng, random, positive)\n",
      "C:\\Users\\hirakata\\Anaconda3\\lib\\site-packages\\sklearn\\linear_model\\coordinate_descent.py:471: ConvergenceWarning: Objective did not converge. You might want to increase the number of iterations. Duality gap: 81.02789579821695, tolerance: 0.41845195593567497\n",
      "  tol, rng, random, positive)\n",
      "C:\\Users\\hirakata\\Anaconda3\\lib\\site-packages\\sklearn\\linear_model\\coordinate_descent.py:471: ConvergenceWarning: Objective did not converge. You might want to increase the number of iterations. Duality gap: 81.02766412535107, tolerance: 0.41845195593567497\n",
      "  tol, rng, random, positive)\n",
      "C:\\Users\\hirakata\\Anaconda3\\lib\\site-packages\\sklearn\\linear_model\\coordinate_descent.py:471: ConvergenceWarning: Objective did not converge. You might want to increase the number of iterations. Duality gap: 82.29019677274141, tolerance: 0.41569546025801724\n",
      "  tol, rng, random, positive)\n",
      "C:\\Users\\hirakata\\Anaconda3\\lib\\site-packages\\sklearn\\linear_model\\coordinate_descent.py:471: ConvergenceWarning: Objective did not converge. You might want to increase the number of iterations. Duality gap: 82.27114966531235, tolerance: 0.41569546025801724\n",
      "  tol, rng, random, positive)\n",
      "C:\\Users\\hirakata\\Anaconda3\\lib\\site-packages\\sklearn\\linear_model\\coordinate_descent.py:471: ConvergenceWarning: Objective did not converge. You might want to increase the number of iterations. Duality gap: 82.26924899666778, tolerance: 0.41569546025801724\n",
      "  tol, rng, random, positive)\n",
      "C:\\Users\\hirakata\\Anaconda3\\lib\\site-packages\\sklearn\\linear_model\\coordinate_descent.py:471: ConvergenceWarning: Objective did not converge. You might want to increase the number of iterations. Duality gap: 82.26903071543666, tolerance: 0.41569546025801724\n",
      "  tol, rng, random, positive)\n",
      "C:\\Users\\hirakata\\Anaconda3\\lib\\site-packages\\sklearn\\linear_model\\coordinate_descent.py:471: ConvergenceWarning: Objective did not converge. You might want to increase the number of iterations. Duality gap: 81.670814212516, tolerance: 0.42020044357325326\n",
      "  tol, rng, random, positive)\n",
      "C:\\Users\\hirakata\\Anaconda3\\lib\\site-packages\\sklearn\\linear_model\\coordinate_descent.py:471: ConvergenceWarning: Objective did not converge. You might want to increase the number of iterations. Duality gap: 81.6514292176131, tolerance: 0.42020044357325326\n",
      "  tol, rng, random, positive)\n",
      "C:\\Users\\hirakata\\Anaconda3\\lib\\site-packages\\sklearn\\linear_model\\coordinate_descent.py:471: ConvergenceWarning: Objective did not converge. You might want to increase the number of iterations. Duality gap: 81.64950032528077, tolerance: 0.42020044357325326\n",
      "  tol, rng, random, positive)\n",
      "C:\\Users\\hirakata\\Anaconda3\\lib\\site-packages\\sklearn\\linear_model\\coordinate_descent.py:471: ConvergenceWarning: Objective did not converge. You might want to increase the number of iterations. Duality gap: 81.64924201249028, tolerance: 0.42020044357325326\n",
      "  tol, rng, random, positive)\n",
      "C:\\Users\\hirakata\\Anaconda3\\lib\\site-packages\\sklearn\\linear_model\\coordinate_descent.py:471: ConvergenceWarning: Objective did not converge. You might want to increase the number of iterations. Duality gap: 81.35226136652136, tolerance: 0.41740245359741857\n",
      "  tol, rng, random, positive)\n",
      "C:\\Users\\hirakata\\Anaconda3\\lib\\site-packages\\sklearn\\linear_model\\coordinate_descent.py:471: ConvergenceWarning: Objective did not converge. You might want to increase the number of iterations. Duality gap: 81.33306171580875, tolerance: 0.41740245359741857\n",
      "  tol, rng, random, positive)\n",
      "C:\\Users\\hirakata\\Anaconda3\\lib\\site-packages\\sklearn\\linear_model\\coordinate_descent.py:471: ConvergenceWarning: Objective did not converge. You might want to increase the number of iterations. Duality gap: 81.33115294780362, tolerance: 0.41740245359741857\n",
      "  tol, rng, random, positive)\n",
      "C:\\Users\\hirakata\\Anaconda3\\lib\\site-packages\\sklearn\\linear_model\\coordinate_descent.py:471: ConvergenceWarning: Objective did not converge. You might want to increase the number of iterations. Duality gap: 81.33092021948528, tolerance: 0.41740245359741857\n",
      "  tol, rng, random, positive)\n",
      "C:\\Users\\hirakata\\Anaconda3\\lib\\site-packages\\sklearn\\linear_model\\coordinate_descent.py:471: ConvergenceWarning: Objective did not converge. You might want to increase the number of iterations. Duality gap: 81.01924680321247, tolerance: 0.4244670069900279\n",
      "  tol, rng, random, positive)\n",
      "C:\\Users\\hirakata\\Anaconda3\\lib\\site-packages\\sklearn\\linear_model\\coordinate_descent.py:471: ConvergenceWarning: Objective did not converge. You might want to increase the number of iterations. Duality gap: 80.99997414688698, tolerance: 0.4244670069900279\n",
      "  tol, rng, random, positive)\n",
      "C:\\Users\\hirakata\\Anaconda3\\lib\\site-packages\\sklearn\\linear_model\\coordinate_descent.py:471: ConvergenceWarning: Objective did not converge. You might want to increase the number of iterations. Duality gap: 80.99804803620498, tolerance: 0.4244670069900279\n",
      "  tol, rng, random, positive)\n",
      "C:\\Users\\hirakata\\Anaconda3\\lib\\site-packages\\sklearn\\linear_model\\coordinate_descent.py:471: ConvergenceWarning: Objective did not converge. You might want to increase the number of iterations. Duality gap: 80.99787282290868, tolerance: 0.4244670069900279\n",
      "  tol, rng, random, positive)\n"
     ]
    },
    {
     "name": "stderr",
     "output_type": "stream",
     "text": [
      "C:\\Users\\hirakata\\Anaconda3\\lib\\site-packages\\sklearn\\linear_model\\coordinate_descent.py:475: ConvergenceWarning: Objective did not converge. You might want to increase the number of iterations. Duality gap: 93.23864902835817, tolerance: 0.4800251586271785\n",
      "  positive)\n",
      "C:\\Users\\hirakata\\Anaconda3\\lib\\site-packages\\sklearn\\linear_model\\coordinate_descent.py:471: ConvergenceWarning: Objective did not converge. You might want to increase the number of iterations. Duality gap: 81.32546431839341, tolerance: 0.42087042873923086\n",
      "  tol, rng, random, positive)\n",
      "C:\\Users\\hirakata\\Anaconda3\\lib\\site-packages\\sklearn\\linear_model\\coordinate_descent.py:471: ConvergenceWarning: Objective did not converge. You might want to increase the number of iterations. Duality gap: 81.30636843785567, tolerance: 0.42087042873923086\n",
      "  tol, rng, random, positive)\n",
      "C:\\Users\\hirakata\\Anaconda3\\lib\\site-packages\\sklearn\\linear_model\\coordinate_descent.py:471: ConvergenceWarning: Objective did not converge. You might want to increase the number of iterations. Duality gap: 81.30445980346099, tolerance: 0.42087042873923086\n",
      "  tol, rng, random, positive)\n",
      "C:\\Users\\hirakata\\Anaconda3\\lib\\site-packages\\sklearn\\linear_model\\coordinate_descent.py:471: ConvergenceWarning: Objective did not converge. You might want to increase the number of iterations. Duality gap: 81.30427256667747, tolerance: 0.42087042873923086\n",
      "  tol, rng, random, positive)\n",
      "C:\\Users\\hirakata\\Anaconda3\\lib\\site-packages\\sklearn\\linear_model\\coordinate_descent.py:471: ConvergenceWarning: Objective did not converge. You might want to increase the number of iterations. Duality gap: 80.2900872075927, tolerance: 0.42191329034829134\n",
      "  tol, rng, random, positive)\n",
      "C:\\Users\\hirakata\\Anaconda3\\lib\\site-packages\\sklearn\\linear_model\\coordinate_descent.py:471: ConvergenceWarning: Objective did not converge. You might want to increase the number of iterations. Duality gap: 80.27103643312671, tolerance: 0.42191329034829134\n",
      "  tol, rng, random, positive)\n",
      "C:\\Users\\hirakata\\Anaconda3\\lib\\site-packages\\sklearn\\linear_model\\coordinate_descent.py:471: ConvergenceWarning: Objective did not converge. You might want to increase the number of iterations. Duality gap: 80.26912995449675, tolerance: 0.42191329034829134\n",
      "  tol, rng, random, positive)\n",
      "C:\\Users\\hirakata\\Anaconda3\\lib\\site-packages\\sklearn\\linear_model\\coordinate_descent.py:471: ConvergenceWarning: Objective did not converge. You might want to increase the number of iterations. Duality gap: 80.2689788459436, tolerance: 0.42191329034829134\n",
      "  tol, rng, random, positive)\n",
      "C:\\Users\\hirakata\\Anaconda3\\lib\\site-packages\\sklearn\\linear_model\\coordinate_descent.py:471: ConvergenceWarning: Objective did not converge. You might want to increase the number of iterations. Duality gap: 80.70061819937507, tolerance: 0.42363941498766655\n",
      "  tol, rng, random, positive)\n",
      "C:\\Users\\hirakata\\Anaconda3\\lib\\site-packages\\sklearn\\linear_model\\coordinate_descent.py:471: ConvergenceWarning: Objective did not converge. You might want to increase the number of iterations. Duality gap: 80.6815988352298, tolerance: 0.42363941498766655\n",
      "  tol, rng, random, positive)\n",
      "C:\\Users\\hirakata\\Anaconda3\\lib\\site-packages\\sklearn\\linear_model\\coordinate_descent.py:471: ConvergenceWarning: Objective did not converge. You might want to increase the number of iterations. Duality gap: 80.67969623476347, tolerance: 0.42363941498766655\n",
      "  tol, rng, random, positive)\n",
      "C:\\Users\\hirakata\\Anaconda3\\lib\\site-packages\\sklearn\\linear_model\\coordinate_descent.py:471: ConvergenceWarning: Objective did not converge. You might want to increase the number of iterations. Duality gap: 80.6795099653342, tolerance: 0.42363941498766655\n",
      "  tol, rng, random, positive)\n",
      "C:\\Users\\hirakata\\Anaconda3\\lib\\site-packages\\sklearn\\linear_model\\coordinate_descent.py:471: ConvergenceWarning: Objective did not converge. You might want to increase the number of iterations. Duality gap: 82.00950663657795, tolerance: 0.4167936397973413\n",
      "  tol, rng, random, positive)\n",
      "C:\\Users\\hirakata\\Anaconda3\\lib\\site-packages\\sklearn\\linear_model\\coordinate_descent.py:471: ConvergenceWarning: Objective did not converge. You might want to increase the number of iterations. Duality gap: 81.99055602655244, tolerance: 0.4167936397973413\n",
      "  tol, rng, random, positive)\n",
      "C:\\Users\\hirakata\\Anaconda3\\lib\\site-packages\\sklearn\\linear_model\\coordinate_descent.py:471: ConvergenceWarning: Objective did not converge. You might want to increase the number of iterations. Duality gap: 81.98866142984878, tolerance: 0.4167936397973413\n",
      "  tol, rng, random, positive)\n",
      "C:\\Users\\hirakata\\Anaconda3\\lib\\site-packages\\sklearn\\linear_model\\coordinate_descent.py:471: ConvergenceWarning: Objective did not converge. You might want to increase the number of iterations. Duality gap: 81.98860331766036, tolerance: 0.4167936397973413\n",
      "  tol, rng, random, positive)\n",
      "C:\\Users\\hirakata\\Anaconda3\\lib\\site-packages\\sklearn\\linear_model\\coordinate_descent.py:471: ConvergenceWarning: Objective did not converge. You might want to increase the number of iterations. Duality gap: 80.04650253654972, tolerance: 0.4194267860024733\n",
      "  tol, rng, random, positive)\n",
      "C:\\Users\\hirakata\\Anaconda3\\lib\\site-packages\\sklearn\\linear_model\\coordinate_descent.py:471: ConvergenceWarning: Objective did not converge. You might want to increase the number of iterations. Duality gap: 80.02764436132713, tolerance: 0.4194267860024733\n",
      "  tol, rng, random, positive)\n",
      "C:\\Users\\hirakata\\Anaconda3\\lib\\site-packages\\sklearn\\linear_model\\coordinate_descent.py:471: ConvergenceWarning: Objective did not converge. You might want to increase the number of iterations. Duality gap: 80.02575888486058, tolerance: 0.4194267860024733\n",
      "  tol, rng, random, positive)\n",
      "C:\\Users\\hirakata\\Anaconda3\\lib\\site-packages\\sklearn\\linear_model\\coordinate_descent.py:471: ConvergenceWarning: Objective did not converge. You might want to increase the number of iterations. Duality gap: 80.02553724406323, tolerance: 0.4194267860024733\n",
      "  tol, rng, random, positive)\n",
      "C:\\Users\\hirakata\\Anaconda3\\lib\\site-packages\\sklearn\\linear_model\\coordinate_descent.py:471: ConvergenceWarning: Objective did not converge. You might want to increase the number of iterations. Duality gap: 80.00962317554354, tolerance: 0.42164806688848977\n",
      "  tol, rng, random, positive)\n",
      "C:\\Users\\hirakata\\Anaconda3\\lib\\site-packages\\sklearn\\linear_model\\coordinate_descent.py:471: ConvergenceWarning: Objective did not converge. You might want to increase the number of iterations. Duality gap: 79.99044893329369, tolerance: 0.42164806688848977\n",
      "  tol, rng, random, positive)\n",
      "C:\\Users\\hirakata\\Anaconda3\\lib\\site-packages\\sklearn\\linear_model\\coordinate_descent.py:471: ConvergenceWarning: Objective did not converge. You might want to increase the number of iterations. Duality gap: 79.98853864648083, tolerance: 0.42164806688848977\n",
      "  tol, rng, random, positive)\n",
      "C:\\Users\\hirakata\\Anaconda3\\lib\\site-packages\\sklearn\\linear_model\\coordinate_descent.py:471: ConvergenceWarning: Objective did not converge. You might want to increase the number of iterations. Duality gap: 79.98841091281713, tolerance: 0.42164806688848977\n",
      "  tol, rng, random, positive)\n",
      "C:\\Users\\hirakata\\Anaconda3\\lib\\site-packages\\sklearn\\linear_model\\coordinate_descent.py:471: ConvergenceWarning: Objective did not converge. You might want to increase the number of iterations. Duality gap: 80.74809083131709, tolerance: 0.4176451976005654\n",
      "  tol, rng, random, positive)\n",
      "C:\\Users\\hirakata\\Anaconda3\\lib\\site-packages\\sklearn\\linear_model\\coordinate_descent.py:471: ConvergenceWarning: Objective did not converge. You might want to increase the number of iterations. Duality gap: 80.72903930915481, tolerance: 0.4176451976005654\n",
      "  tol, rng, random, positive)\n",
      "C:\\Users\\hirakata\\Anaconda3\\lib\\site-packages\\sklearn\\linear_model\\coordinate_descent.py:471: ConvergenceWarning: Objective did not converge. You might want to increase the number of iterations. Duality gap: 80.72714088466307, tolerance: 0.4176451976005654\n",
      "  tol, rng, random, positive)\n",
      "C:\\Users\\hirakata\\Anaconda3\\lib\\site-packages\\sklearn\\linear_model\\coordinate_descent.py:471: ConvergenceWarning: Objective did not converge. You might want to increase the number of iterations. Duality gap: 80.72688348360577, tolerance: 0.4176451976005654\n",
      "  tol, rng, random, positive)\n",
      "C:\\Users\\hirakata\\Anaconda3\\lib\\site-packages\\sklearn\\linear_model\\coordinate_descent.py:471: ConvergenceWarning: Objective did not converge. You might want to increase the number of iterations. Duality gap: 80.07543376353192, tolerance: 0.41747833590008554\n",
      "  tol, rng, random, positive)\n",
      "C:\\Users\\hirakata\\Anaconda3\\lib\\site-packages\\sklearn\\linear_model\\coordinate_descent.py:471: ConvergenceWarning: Objective did not converge. You might want to increase the number of iterations. Duality gap: 80.05653944135531, tolerance: 0.41747833590008554\n",
      "  tol, rng, random, positive)\n",
      "C:\\Users\\hirakata\\Anaconda3\\lib\\site-packages\\sklearn\\linear_model\\coordinate_descent.py:471: ConvergenceWarning: Objective did not converge. You might want to increase the number of iterations. Duality gap: 80.05464609070373, tolerance: 0.41747833590008554\n",
      "  tol, rng, random, positive)\n",
      "C:\\Users\\hirakata\\Anaconda3\\lib\\site-packages\\sklearn\\linear_model\\coordinate_descent.py:471: ConvergenceWarning: Objective did not converge. You might want to increase the number of iterations. Duality gap: 80.05453552703659, tolerance: 0.41747833590008554\n",
      "  tol, rng, random, positive)\n"
     ]
    },
    {
     "name": "stdout",
     "output_type": "stream",
     "text": [
      "----------LassoCV----------\n",
      "R square Accuracy:  0.9100038030225648\n",
      "Mean Absolute Error Accuracy:  0.1128248922720093\n",
      "Mean Squared Error Accuracy:  0.025305677200883732\n"
     ]
    },
    {
     "name": "stderr",
     "output_type": "stream",
     "text": [
      "C:\\Users\\hirakata\\Anaconda3\\lib\\site-packages\\sklearn\\linear_model\\coordinate_descent.py:475: ConvergenceWarning: Objective did not converge. You might want to increase the number of iterations. Duality gap: 92.16790319032634, tolerance: 0.4799200614491446\n",
      "  positive)\n"
     ]
    }
   ],
   "source": [
    "kfolds = KFold(n_splits=8, shuffle=True, random_state=42)\n",
    "\n",
    "lassocv_reg= make_pipeline(LassoCV(alphas=alphas, cv=kfolds))\n",
    "scores = cross_validate(lassocv_reg, X_std, Y, cv=skf, scoring=score_funcs)\n",
    "\n",
    "#lassocv_reg.fit(x_train, y_train)\n",
    "#y_head=lassocv_reg.predict(x_test)\n",
    "print('-'*10+'LassoCV'+'-'*10)\n",
    "print('R square Accuracy: ',r2_score(y_test,y_head))\n",
    "print('Mean Absolute Error Accuracy: ',mean_absolute_error(y_test,y_head))\n",
    "print('Mean Squared Error Accuracy: ',mean_squared_error(y_test,y_head))"
   ]
  },
  {
   "cell_type": "code",
   "execution_count": 344,
   "metadata": {},
   "outputs": [
    {
     "name": "stdout",
     "output_type": "stream",
     "text": [
      "----------ElasticNetCV----------\n",
      "R square Accuracy:  0.9100038030225648\n",
      "Mean Absolute Error Accuracy:  0.1128248922720093\n",
      "Mean Squared Error Accuracy:  0.025305677200883732\n"
     ]
    }
   ],
   "source": [
    "kfolds = KFold(n_splits=8, shuffle=True, random_state=42)\n",
    "\n",
    "alphas=[0.0001, 0.0002, 0.0003, 0.0004, 0.0005, 0.0006]\n",
    "l1ratio=[0.87, 0.9,0.92, 0.95,0.97, 0.99, 1]\n",
    "\n",
    "elasticv_reg= make_pipeline(ElasticNetCV(alphas=alphas, cv=kfolds, l1_ratio=l1ratio))\n",
    "scores = cross_validate(elasticv_reg, X_std, Y, cv=skf, scoring=score_funcs)\n",
    "\n",
    "print('-'*10+'ElasticNetCV'+'-'*10)\n",
    "print('R square Accuracy: ',r2_score(y_test,y_head))\n",
    "print('Mean Absolute Error Accuracy: ',mean_absolute_error(y_test,y_head))\n",
    "print('Mean Squared Error Accuracy: ',mean_squared_error(y_test,y_head))"
   ]
  },
  {
   "cell_type": "code",
   "execution_count": 163,
   "metadata": {},
   "outputs": [
    {
     "data": {
      "text/html": [
       "<div>\n",
       "<style scoped>\n",
       "    .dataframe tbody tr th:only-of-type {\n",
       "        vertical-align: middle;\n",
       "    }\n",
       "\n",
       "    .dataframe tbody tr th {\n",
       "        vertical-align: top;\n",
       "    }\n",
       "\n",
       "    .dataframe thead th {\n",
       "        text-align: right;\n",
       "    }\n",
       "</style>\n",
       "<table border=\"1\" class=\"dataframe\">\n",
       "  <thead>\n",
       "    <tr style=\"text-align: right;\">\n",
       "      <th></th>\n",
       "      <th>ans</th>\n",
       "      <th>test</th>\n",
       "    </tr>\n",
       "  </thead>\n",
       "  <tbody>\n",
       "    <tr>\n",
       "      <th>2005</th>\n",
       "      <td>276900.0</td>\n",
       "      <td>342404.0</td>\n",
       "    </tr>\n",
       "    <tr>\n",
       "      <th>17841</th>\n",
       "      <td>159100.0</td>\n",
       "      <td>223357.0</td>\n",
       "    </tr>\n",
       "    <tr>\n",
       "      <th>17859</th>\n",
       "      <td>430000.0</td>\n",
       "      <td>753425.0</td>\n",
       "    </tr>\n",
       "    <tr>\n",
       "      <th>814</th>\n",
       "      <td>2400000.0</td>\n",
       "      <td>1648779.0</td>\n",
       "    </tr>\n",
       "    <tr>\n",
       "      <th>2632</th>\n",
       "      <td>249999.0</td>\n",
       "      <td>235692.0</td>\n",
       "    </tr>\n",
       "  </tbody>\n",
       "</table>\n",
       "</div>"
      ],
      "text/plain": [
       "             ans       test\n",
       "2005    276900.0   342404.0\n",
       "17841   159100.0   223357.0\n",
       "17859   430000.0   753425.0\n",
       "814    2400000.0  1648779.0\n",
       "2632    249999.0   235692.0"
      ]
     },
     "execution_count": 163,
     "metadata": {},
     "output_type": "execute_result"
    }
   ],
   "source": [
    "pd.DataFrame({\"ans\":np.floor(np.expm1(y_test)), \"test\":np.floor(np.expm1(y_head))}).head()"
   ]
  }
 ],
 "metadata": {
  "kernelspec": {
   "display_name": "Python 3",
   "language": "python",
   "name": "python3"
  },
  "language_info": {
   "codemirror_mode": {
    "name": "ipython",
    "version": 3
   },
   "file_extension": ".py",
   "mimetype": "text/x-python",
   "name": "python",
   "nbconvert_exporter": "python",
   "pygments_lexer": "ipython3",
   "version": "3.7.3"
  }
 },
 "nbformat": 4,
 "nbformat_minor": 2
}
